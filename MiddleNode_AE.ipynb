{
 "cells": [
  {
   "cell_type": "markdown",
   "metadata": {},
   "source": [
    "Experiments"
   ]
  },
  {
   "cell_type": "code",
   "execution_count": 8,
   "metadata": {},
   "outputs": [
    {
     "name": "stdout",
     "output_type": "stream",
     "text": [
      "length is  14\n"
     ]
    }
   ],
   "source": [
    "# Finds string's length without using length function\n",
    "def string_length(a):\n",
    "    j = 0\n",
    "    for i in a:\n",
    "        j+=1\n",
    "    return j\n",
    "\n",
    "#taking user input\n",
    "#a = input(\"enter string :\")\n",
    "a = \"I am alive now\"\n",
    "length = string_length(a)\n",
    "print(\"length is \", length)\n"
   ]
  },
  {
   "cell_type": "code",
   "execution_count": 2,
   "metadata": {},
   "outputs": [
    {
     "data": {
      "text/plain": [
       "2"
      ]
     },
     "execution_count": 2,
     "metadata": {},
     "output_type": "execute_result"
    }
   ],
   "source": [
    "int(2.5)"
   ]
  },
  {
   "cell_type": "code",
   "execution_count": 3,
   "metadata": {},
   "outputs": [
    {
     "name": "stdout",
     "output_type": "stream",
     "text": [
      "3 3\n"
     ]
    }
   ],
   "source": [
    "testVariable1 = testVariable2 = 3\n",
    "print(testVariable1, testVariable2)"
   ]
  },
  {
   "cell_type": "code",
   "execution_count": 4,
   "metadata": {},
   "outputs": [
    {
     "name": "stdout",
     "output_type": "stream",
     "text": [
      "2 2 2.5 1\n"
     ]
    }
   ],
   "source": [
    "# 5//2 Can be used instead of int(5/2)\n",
    "'''n Python, you use the double slash // operator to perform floor division. This // operator divides the first number \n",
    "by the second number and rounds the result down to the nearest lowest integer (or whole number)'''\n",
    "print(5// 2, int(5/2), 5/2, 5%2)"
   ]
  },
  {
   "cell_type": "markdown",
   "metadata": {},
   "source": [
    "Solutions "
   ]
  },
  {
   "cell_type": "code",
   "execution_count": 5,
   "metadata": {},
   "outputs": [
    {
     "name": "stdout",
     "output_type": "stream",
     "text": [
      "1 ---- 9\n"
     ]
    }
   ],
   "source": [
    "# Solution 1 - Bruteforce method\n",
    "import math\n",
    "class LinkedList:\n",
    "    def __init__(self, value):\n",
    "        self.value = value\n",
    "        self.next = None\n",
    "\n",
    "# List (Even length of 4) = 2 -> 7 -> 1 -> 5. Third node is middle one, whose value is 1.\n",
    "node1 = LinkedList(2)\n",
    "node2 = LinkedList(7)\n",
    "node3 = LinkedList(1)\n",
    "node4 = LinkedList(5)\n",
    "node1.next = node2\n",
    "node2.next = node3\n",
    "node3.next = node4\n",
    "linkedListEven = node1\n",
    "\n",
    "# List (Odd length of 5) = 2 -> 7 -> 9 -> 5 -> 8. Third node is middle one, whose value is 9. \n",
    "node1 = LinkedList(2)\n",
    "node2 = LinkedList(7)\n",
    "node3 = LinkedList(9)\n",
    "node4 = LinkedList(5)\n",
    "node5 = LinkedList(8)\n",
    "node1.next = node2\n",
    "node2.next = node3\n",
    "node3.next = node4\n",
    "node4.next = node5\n",
    "linkedListOdd = node1\n",
    "\n",
    "'''O(n + n/2) = O(n), but two loops are used'''\n",
    "def middleNode(linkedList):\n",
    "    headNode = linkedList\n",
    "    # Boundary checks if given list is empty or list has only one node\n",
    "    if headNode == None or headNode.next == None:\n",
    "        return headNode \n",
    "    lenOfList = 0\n",
    "    # O(n). Loop to find length\n",
    "    while(linkedList != None):\n",
    "        lenOfList += 1\n",
    "        linkedList = linkedList.next\n",
    "    linkedList = headNode\n",
    "    index = 1\n",
    "    middleIndex = int(lenOfList/2)\n",
    "    # O(n/2). Traverse to find mid node, almost to half of list\n",
    "    while linkedList != None:\n",
    "        if index == middleIndex:\n",
    "            # Middle of even or odd length is next to the arithmetic middle index \n",
    "            # (takes floor value if we use int(length/2) in case of odd length) as per instructions\n",
    "            return linkedList.next\n",
    "        index += 1            \n",
    "        linkedList = linkedList.next\n",
    "    return None\n",
    "\n",
    "middleNodeEven = middleNode(linkedListEven)\n",
    "middleNodeOdd = middleNode(linkedListOdd)\n",
    "print(middleNodeEven.value, \"----\", middleNodeOdd.value)"
   ]
  },
  {
   "cell_type": "code",
   "execution_count": 6,
   "metadata": {},
   "outputs": [
    {
     "name": "stdout",
     "output_type": "stream",
     "text": [
      "1 ---- 9\n"
     ]
    }
   ],
   "source": [
    "# Solution 2\n",
    "import math\n",
    "class LinkedList:\n",
    "    def __init__(self, value):\n",
    "        self.value = value\n",
    "        self.next = None\n",
    "\n",
    "# List (Even length of 4) = 2 -> 7 -> 1 -> 5. Third node is middle one, whose value is 1.\n",
    "node1 = LinkedList(2)\n",
    "node2 = LinkedList(7)\n",
    "node3 = LinkedList(1)\n",
    "node4 = LinkedList(5)\n",
    "node1.next = node2\n",
    "node2.next = node3\n",
    "node3.next = node4\n",
    "linkedListEven = node1\n",
    "\n",
    "# List (Odd length of 5) = 2 -> 7 -> 9 -> 5 -> 8. Third node is middle one, whose value is 9. \n",
    "node1 = LinkedList(2)\n",
    "node2 = LinkedList(7)\n",
    "node3 = LinkedList(9)\n",
    "node4 = LinkedList(5)\n",
    "node5 = LinkedList(8)\n",
    "node1.next = node2\n",
    "node2.next = node3\n",
    "node3.next = node4\n",
    "node4.next = node5\n",
    "linkedListOdd = node1\n",
    "\n",
    "'''O(n), found the answer in one traversal'''\n",
    "def middleNode(linkedList):\n",
    "    headNode = linkedList\n",
    "    # Boundary checks \n",
    "    # If given list is empty or list has only one node, then that node is the mid node \n",
    "    if headNode == None or headNode.next == None:\n",
    "        return headNode   \n",
    "    # If list has two nodes only then the second node is the mid node as per instructions.\n",
    "    # If the length of the list is even, here its 2, so the mid node is at (2/2 + 1) th position which is 1 + 1 = the node at 2nd position\n",
    "    if headNode.next.next == None:\n",
    "        return headNode.next\n",
    "    # Control reaches here only if the list has 3 or more nodes. \n",
    "    #At first the first pointer points to head node and the second one to third node\n",
    "    firstPointer = headNode\n",
    "    secondPointer = headNode.next.next   \n",
    "    # O(n), one and only one traversal\n",
    "    while secondPointer != None:\n",
    "        # Shifting step by step to avoid secondPointer turning None\n",
    "        if secondPointer.next != None:\n",
    "            # If second pointer shifts atleast once then only first pointer must move\n",
    "            firstPointer = firstPointer.next\n",
    "            secondPointer = secondPointer.next\n",
    "            if secondPointer.next != None:\n",
    "                secondPointer = secondPointer.next\n",
    "            else:\n",
    "                break\n",
    "        else:\n",
    "            break\n",
    "    return firstPointer.next\n",
    "\n",
    "middleNodeEven = middleNode(linkedListEven)\n",
    "middleNodeOdd = middleNode(linkedListOdd)\n",
    "print(middleNodeEven.value, \"----\", middleNodeOdd.value)"
   ]
  },
  {
   "cell_type": "code",
   "execution_count": 7,
   "metadata": {},
   "outputs": [
    {
     "name": "stdout",
     "output_type": "stream",
     "text": [
      "1 ---- 9\n"
     ]
    }
   ],
   "source": [
    "# Solution 3\n",
    "import math\n",
    "class LinkedList:\n",
    "    def __init__(self, value):\n",
    "        self.value = value\n",
    "        self.next = None\n",
    "\n",
    "# List (Even length of 4) = 2 -> 7 -> 1 -> 5. Third node is middle one, whose value is 1.\n",
    "node1 = LinkedList(2)\n",
    "node2 = LinkedList(7)\n",
    "node3 = LinkedList(1)\n",
    "node4 = LinkedList(5)\n",
    "node1.next = node2\n",
    "node2.next = node3\n",
    "node3.next = node4\n",
    "linkedListEven = node1\n",
    "\n",
    "# List (Odd length of 5) = 2 -> 7 -> 9 -> 5 -> 8. Third node is middle one, whose value is 9. \n",
    "node1 = LinkedList(2)\n",
    "node2 = LinkedList(7)\n",
    "node3 = LinkedList(9)\n",
    "node4 = LinkedList(5)\n",
    "node5 = LinkedList(8)\n",
    "node1.next = node2\n",
    "node2.next = node3\n",
    "node3.next = node4\n",
    "node4.next = node5\n",
    "linkedListOdd = node1\n",
    "\n",
    "'''O(n), found the answer in one traversal. The check, if only two nodes exists isn't present in Solution 3, \n",
    "it is integrated around one and only one while loop, other than that there is no difference between Solution 2 and 3'''\n",
    "def middleNode(linkedList):\n",
    "    headNode = linkedList\n",
    "    # Boundary checks \n",
    "    # If given list is empty or list has only one node, then that node is the mid node \n",
    "    if headNode == None or headNode.next == None:\n",
    "        return headNode   \n",
    "    # At first the first pointer points to head node and the second one to third node, this happens step by step\n",
    "    # Sometimes there are only two nodes then below step by step assignment is necessary. In such case control does not\n",
    "    # go to loop and firstPointer.next would return, which is the second node of a list of length 2\n",
    "    firstPointer = secondPointer = headNode\n",
    "    if secondPointer.next != None:\n",
    "        secondPointer = secondPointer.next\n",
    "        if secondPointer.next != None:\n",
    "            secondPointer = secondPointer.next  \n",
    "    # O(n), one and only one traversal\n",
    "    while secondPointer != None:\n",
    "        # Shifting step by step to avoid secondPointer turning None\n",
    "        if secondPointer.next != None:\n",
    "            # If second pointer shifts atleast once then only first pointer must move\n",
    "            firstPointer = firstPointer.next\n",
    "            secondPointer = secondPointer.next\n",
    "            if secondPointer.next != None:\n",
    "                secondPointer = secondPointer.next\n",
    "            else:\n",
    "                break\n",
    "        else:\n",
    "            break\n",
    "    return firstPointer.next\n",
    "\n",
    "middleNodeEven = middleNode(linkedListEven)\n",
    "middleNodeOdd = middleNode(linkedListOdd)\n",
    "print(middleNodeEven.value, \"----\", middleNodeOdd.value)"
   ]
  }
 ],
 "metadata": {
  "kernelspec": {
   "display_name": "Python 3",
   "language": "python",
   "name": "python3"
  },
  "language_info": {
   "codemirror_mode": {
    "name": "ipython",
    "version": 3
   },
   "file_extension": ".py",
   "mimetype": "text/x-python",
   "name": "python",
   "nbconvert_exporter": "python",
   "pygments_lexer": "ipython3",
   "version": "3.11.4"
  },
  "orig_nbformat": 4
 },
 "nbformat": 4,
 "nbformat_minor": 2
}
