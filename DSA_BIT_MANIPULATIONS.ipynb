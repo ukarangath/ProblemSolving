{
 "cells": [
  {
   "cell_type": "code",
   "execution_count": 26,
   "metadata": {},
   "outputs": [],
   "source": [
    "# Decimal to digits conversion\n",
    "''' Function takes even negative numbers also as an input to give the digits as output.\n",
    "Here I did not include a decimal number check, which can be checked after converting the \n",
    "number to string and then check if any dot character is present inside the number '''\n",
    "def decimalToDigits(number):\n",
    "        # Checks if the number is integer or not\n",
    "        try:\n",
    "            number = int(number)\n",
    "        except:\n",
    "            print('Please enter a positive integer value')\n",
    "            return \n",
    "        if number == 0:\n",
    "            return 0\n",
    "        if number < 0:\n",
    "            number = number * -1\n",
    "        listOfDigits = []\n",
    "        while number > 0:\n",
    "            # reminder after a division by 10\n",
    "            reminder = number % 10\n",
    "            listOfDigits += [reminder]\n",
    "            # number is updated everytime as the qutient after a division by 10\n",
    "            number = int(number/10)\n",
    "        # Two ways to reverse the list\n",
    "        return listOfDigits[::-1]\n",
    "        #return [listOfDigits[i] for i in range(len(listOfDigits)-1,-1,-1)]"
   ]
  },
  {
   "cell_type": "code",
   "execution_count": 27,
   "metadata": {},
   "outputs": [
    {
     "data": {
      "text/plain": [
       "[2, 3, 3, 3, 2, 3, 3]"
      ]
     },
     "execution_count": 27,
     "metadata": {},
     "output_type": "execute_result"
    }
   ],
   "source": [
    "decimalToDigits(2333233)"
   ]
  },
  {
   "cell_type": "code",
   "execution_count": 28,
   "metadata": {},
   "outputs": [],
   "source": [
    "# Decimal to binary conversion\n",
    "'''No checks made to see if number is a decimal number. Works only for positive integers, not for negative integers'''\n",
    "def decimalToBinary(number):\n",
    "    # Checks if the number is integer or not\n",
    "    try:\n",
    "        number = int(number)\n",
    "    except:\n",
    "        print('Please enter a positive integer value')\n",
    "        return \n",
    "    if number == 0:\n",
    "        return 0\n",
    "    listOfDigits = []\n",
    "    while number > 0:\n",
    "        # reminder after a division by 10\n",
    "        reminder = number % 2\n",
    "        listOfDigits += [reminder]\n",
    "        # number is updated everytime as the qutient after a division by 10\n",
    "        number = int(number/2)\n",
    "    # Two ways to reverse the list\n",
    "    return listOfDigits[::-1]\n",
    "        #return [listOfDigits[i] for i in range(len(listOfDigits)-1,-1,-1)]"
   ]
  },
  {
   "cell_type": "code",
   "execution_count": 29,
   "metadata": {},
   "outputs": [
    {
     "data": {
      "text/plain": [
       "[1, 0, 0, 0, 0, 1, 1, 0, 0, 0, 0, 1, 1, 1, 0, 1]"
      ]
     },
     "execution_count": 29,
     "metadata": {},
     "output_type": "execute_result"
    }
   ],
   "source": [
    "decimalToBinary('34333')"
   ]
  },
  {
   "cell_type": "code",
   "execution_count": 31,
   "metadata": {},
   "outputs": [],
   "source": [
    "# Decimal to any base conversion, you have to enter base value seperately here\n",
    "'''No checks made to see if number is a decimal number. Works only for positive integers, not for negative integers'''\n",
    "def decimalToBinaryAnyBase(number,base):\n",
    "    # Checks if the number is integer or not\n",
    "    try:\n",
    "        number = int(number)\n",
    "        base = int(base)\n",
    "    except:\n",
    "        print('Please enter a positive integer values')\n",
    "        return \n",
    "    if number == 0:\n",
    "        return 0\n",
    "    listOfDigits = []\n",
    "    while number > 0:\n",
    "        # reminder after a division by 10\n",
    "        reminder = number % base\n",
    "        listOfDigits += [reminder]\n",
    "        # number is updated everytime as the qutient after a division by 10\n",
    "        number = int(number/base)\n",
    "    # Two ways to reverse the list\n",
    "    return listOfDigits[::-1]\n",
    "        #return [listOfDigits[i] for i in range(len(listOfDigits)-1,-1,-1)]"
   ]
  },
  {
   "cell_type": "code",
   "execution_count": 32,
   "metadata": {},
   "outputs": [
    {
     "data": {
      "text/plain": [
       "[3, 4, 5, 6]"
      ]
     },
     "execution_count": 32,
     "metadata": {},
     "output_type": "execute_result"
    }
   ],
   "source": [
    "decimalToBinaryAnyBase(3456,10)"
   ]
  },
  {
   "cell_type": "code",
   "execution_count": 33,
   "metadata": {},
   "outputs": [
    {
     "data": {
      "text/plain": [
       "[1, 1, 0, 1, 1, 0, 0, 0, 0, 0, 0, 0]"
      ]
     },
     "execution_count": 33,
     "metadata": {},
     "output_type": "execute_result"
    }
   ],
   "source": [
    "decimalToBinaryAnyBase(3456,2)"
   ]
  },
  {
   "cell_type": "code",
   "execution_count": 34,
   "metadata": {},
   "outputs": [
    {
     "data": {
      "text/plain": [
       "[1, 1, 2, 0, 2, 0, 0, 0]"
      ]
     },
     "execution_count": 34,
     "metadata": {},
     "output_type": "execute_result"
    }
   ],
   "source": [
    "decimalToBinaryAnyBase(3456,3)"
   ]
  },
  {
   "cell_type": "code",
   "execution_count": 35,
   "metadata": {},
   "outputs": [
    {
     "data": {
      "text/plain": [
       "[1, 0, 2, 3, 1, 1]"
      ]
     },
     "execution_count": 35,
     "metadata": {},
     "output_type": "execute_result"
    }
   ],
   "source": [
    "decimalToBinaryAnyBase(3456,5)"
   ]
  },
  {
   "cell_type": "code",
   "execution_count": 9,
   "metadata": {},
   "outputs": [
    {
     "name": "stdout",
     "output_type": "stream",
     "text": [
      "-0b100\n",
      "3\n"
     ]
    }
   ],
   "source": [
    "b = -4\n",
    "print(bin(b))#note the representation of negative number in python\n",
    "print(~b)#"
   ]
  },
  {
   "cell_type": "code",
   "execution_count": 10,
   "metadata": {},
   "outputs": [
    {
     "name": "stdout",
     "output_type": "stream",
     "text": [
      "5\n",
      "20\n"
     ]
    }
   ],
   "source": [
    "b = 10\n",
    "print(b>>1)#divide by 2\n",
    "print(b<<1)#multiply by 2"
   ]
  },
  {
   "cell_type": "code",
   "execution_count": 25,
   "metadata": {},
   "outputs": [
    {
     "name": "stdout",
     "output_type": "stream",
     "text": [
      "255\n",
      "0b11111111\n",
      "0b11\n",
      "0b11111111000000\n"
     ]
    }
   ],
   "source": [
    "b = int('11111111',2)#initialize number in bits\n",
    "print(b)\n",
    "print(bin(b))\n",
    "print(bin(b>>6))#added  zeros at begining are not shown\n",
    "print(bin(b<<6))"
   ]
  },
  {
   "cell_type": "code",
   "execution_count": 46,
   "metadata": {
    "scrolled": true
   },
   "outputs": [
    {
     "name": "stdout",
     "output_type": "stream",
     "text": [
      "64255\n",
      "0b1111101011111111\n",
      "-0b1111101100000000\n"
     ]
    }
   ],
   "source": [
    "b = int('0b1111101011111111', 2)#we can either add b while initilaizing or not\n",
    "print(b)\n",
    "print(bin(b))\n",
    "print(bin(~b))"
   ]
  },
  {
   "cell_type": "code",
   "execution_count": 39,
   "metadata": {},
   "outputs": [
    {
     "name": "stdout",
     "output_type": "stream",
     "text": [
      "-5\n",
      "-20\n"
     ]
    }
   ],
   "source": [
    "b = -10\n",
    "print(b>>1)#divide by 2\n",
    "print(b<<1)#multiply by 2"
   ]
  },
  {
   "cell_type": "code",
   "execution_count": 50,
   "metadata": {},
   "outputs": [
    {
     "name": "stdout",
     "output_type": "stream",
     "text": [
      "-0b1000\n",
      "-0b11110\n"
     ]
    }
   ],
   "source": [
    "b = int('-1111', 2)\n",
    "print(bin(b>>1))#divide by 2\n",
    "print(bin(b<<1))#multiply by 2"
   ]
  },
  {
   "cell_type": "code",
   "execution_count": 86,
   "metadata": {},
   "outputs": [
    {
     "name": "stdout",
     "output_type": "stream",
     "text": [
      "-0b1111\n",
      "-8\n",
      "-0b1000\n",
      "-30\n",
      "-0b11110\n"
     ]
    }
   ],
   "source": [
    "'''In python if we do right shift on negative odd numbers, thn it gives the value of floor(number/2).\n",
    "Here -15/2 = -7.5 and floor(-7.5) = -8'''\n",
    "b = -15\n",
    "print(bin(b))\n",
    "print(b>>1)\n",
    "print(bin(b>>1))#divide by 2\n",
    "print(b<<1)\n",
    "print(bin(b<<1))#multiply by 2"
   ]
  },
  {
   "cell_type": "code",
   "execution_count": 87,
   "metadata": {},
   "outputs": [
    {
     "name": "stdout",
     "output_type": "stream",
     "text": [
      "0b1111\n",
      "7\n",
      "0b111\n",
      "30\n",
      "0b11110\n"
     ]
    }
   ],
   "source": [
    "'''In python if we do right shift on negative odd numbers, thn it gives the value of floor(number/2).\n",
    "Here 15/2 = 7.5 and floor(7.5) = 7'''\n",
    "b = 15\n",
    "print(bin(b))\n",
    "print(b>>1)\n",
    "print(bin(b>>1))#divide by 2\n",
    "print(b<<1)\n",
    "print(bin(b<<1))#multiply by 2"
   ]
  },
  {
   "cell_type": "code",
   "execution_count": 1,
   "metadata": {},
   "outputs": [
    {
     "data": {
      "text/plain": [
       "-3"
      ]
     },
     "execution_count": 1,
     "metadata": {},
     "output_type": "execute_result"
    }
   ],
   "source": [
    "'''2 => 0010, ~2 => 1101\n",
    "-3 => 2 compliment of 3, ~3+1 => ~0011+1 => 1100+1 => 1101\n",
    "So ~2 we got same as 2s compliment of 3/-3\n",
    "In python ~x = -x-1'''\n",
    "~(2)"
   ]
  },
  {
   "cell_type": "code",
   "execution_count": null,
   "metadata": {},
   "outputs": [],
   "source": []
  }
 ],
 "metadata": {
  "kernelspec": {
   "display_name": "Python 3",
   "language": "python",
   "name": "python3"
  },
  "language_info": {
   "codemirror_mode": {
    "name": "ipython",
    "version": 3
   },
   "file_extension": ".py",
   "mimetype": "text/x-python",
   "name": "python",
   "nbconvert_exporter": "python",
   "pygments_lexer": "ipython3",
   "version": "3.7.6"
  }
 },
 "nbformat": 4,
 "nbformat_minor": 4
}
