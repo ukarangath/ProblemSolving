{
 "cells": [
  {
   "cell_type": "markdown",
   "metadata": {},
   "source": [
    "## Leetcode workbook"
   ]
  },
  {
   "cell_type": "markdown",
   "metadata": {},
   "source": [
    "### Dynamic programming\n",
    "### Climbing stairs problem - Leetcode, Brits method solution"
   ]
  },
  {
   "cell_type": "code",
   "execution_count": 56,
   "metadata": {},
   "outputs": [
    {
     "name": "stdout",
     "output_type": "stream",
     "text": [
      "3\n",
      "5\n",
      "8\n",
      "13\n"
     ]
    }
   ],
   "source": [
    "def climbSteps(n):\n",
    "    if n==1:\n",
    "        return 1\n",
    "    dp = [None]*(n+1)\n",
    "    #one path to 1st position and two paths to second position(using 1 step and using 2 step)\n",
    "    dp[1] = 1\n",
    "    dp[2] = 2\n",
    "    for i in range(3,n+1):\n",
    "        dp[i] = dp[i-1] + dp[i-2]\n",
    "    return dp[n]\n",
    "print(climbSteps(3))#12,21,111(3)\n",
    "print(climbSteps(4))#22,1111,211,121,112(5)\n",
    "print(climbSteps(5))/11111,212,122,221,1112,1211,1121,2111(8)"
   ]
  },
  {
   "cell_type": "markdown",
   "metadata": {},
   "source": [
    "### Different ways to multiply matrices, which needs to be used in above Brits method"
   ]
  },
  {
   "cell_type": "code",
   "execution_count": 96,
   "metadata": {},
   "outputs": [],
   "source": [
    "def mulMat(A,B):\n",
    "    #if A == [[]] or A == [] or B == [[]] or A == []:\n",
    "    # Checks for emptiness\n",
    "    if len(A) == 0 or len(A[0])==0 or len(B) == 0 or len(B[0])==0:\n",
    "          return('Empty matrices could not be multiplied') \n",
    "    # Checks if None is there in matrices\n",
    "    if any(None in ra or None in rb for ra in A for rb in B):\n",
    "        return('None is present in one of the matrix, can not proceed further')\n",
    "    # No of cols of A is equal to no of rows of B - basic condition \n",
    "    # to multiply two matrices\n",
    "    if len(A[0]) == len(B):\n",
    "        print('Resultant Matrix:')\n",
    "        # Atleast one element must be in matrices\n",
    "        rows = len(A)\n",
    "        cols = len(B[0])\n",
    "        # Above lines of code creates same row reference for all rows\n",
    "        #R = [[None]*cols]*rows\n",
    "        R = [[0 for row in range(cols)] for col in range(rows)]\n",
    "        for i in range(rows):\n",
    "            for j in range(cols):\n",
    "                # Dot product of ith row in A and jth col in B\n",
    "                r = A[i]\n",
    "                c = [rw[j] for rw in B]\n",
    "                # Or using zip function to get dot product,\n",
    "                # [s[0]*s[1] for s in zip(r,c)]\n",
    "                R[i][j] = sum([r[ir]*c[ir] for ir in range(len(r))])\n",
    "        #return(R)\n",
    "        print('['+'\\n'.join([str(row) for row in R])+']')\n",
    "    else:\n",
    "        return('Can not multiply the given matrices') "
   ]
  },
  {
   "cell_type": "code",
   "execution_count": 97,
   "metadata": {},
   "outputs": [
    {
     "name": "stdout",
     "output_type": "stream",
     "text": [
      "Resultant Matrix:\n",
      "[[30, 36, 42, 48, 54]\n",
      "[66, 81, 96, 111, 126]\n",
      "[102, 126, 150, 174, 198]\n",
      "[138, 171, 204, 237, 270]]\n"
     ]
    }
   ],
   "source": [
    "# Cols of A is 3 which is same as rows of B which is 3\n",
    "# Result of multiplication is a 4x5 matrix\n",
    "# A = [[1,2,3]]*4\n",
    "# B = [[3,2,1,0]]*3\n",
    "A = [[1,2,3],[4,5,6],[7,8,9],[10,11,12]] #4x3\n",
    "B = [[1,2,3,4,5],[4,5,6,7,8],[7,8,9,10,11]] #3x5\n",
    "mulMat(A,B)"
   ]
  },
  {
   "cell_type": "code",
   "execution_count": 77,
   "metadata": {},
   "outputs": [
    {
     "data": {
      "text/plain": [
       "matrix([[ 30,  36,  42,  48,  54],\n",
       "        [ 66,  81,  96, 111, 126],\n",
       "        [102, 126, 150, 174, 198],\n",
       "        [138, 171, 204, 237, 270]])"
      ]
     },
     "execution_count": 77,
     "metadata": {},
     "output_type": "execute_result"
    }
   ],
   "source": [
    "import numpy as np # I want to check my solution with numpy\n",
    "mx = np.matrix(A)\n",
    "my = np.matrix(B)  \n",
    "mx * my"
   ]
  },
  {
   "cell_type": "code",
   "execution_count": 78,
   "metadata": {},
   "outputs": [],
   "source": [
    "# Simple matrix multiplication\n",
    "def matrixmult (A, B):\n",
    "    rows_A = len(A)\n",
    "    cols_A = len(A[0])\n",
    "    rows_B = len(B)\n",
    "    cols_B = len(B[0])\n",
    "    if cols_A != rows_B:\n",
    "      print (\"Cannot multiply the two matrices. Incorrect dimensions.\")\n",
    "      return\n",
    "    # Create the result matrix\n",
    "    # Dimensions would be rows_A x cols_B\n",
    "    C = [[0 for row in range(cols_B)] for col in range(rows_A)]\n",
    "    print(C)\n",
    "    for i in range(rows_A):\n",
    "        for j in range(cols_B):\n",
    "            # length of row of A/length of columns of B\n",
    "            for k in range(cols_A):\n",
    "                C[i][j] += A[i][k] * B[k][j]\n",
    "    return C"
   ]
  },
  {
   "cell_type": "code",
   "execution_count": 100,
   "metadata": {},
   "outputs": [
    {
     "name": "stdout",
     "output_type": "stream",
     "text": [
      "[[30, 36, 42, 48, 54]\n",
      "[66, 81, 96, 111, 126]\n",
      "[102, 126, 150, 174, 198]\n",
      "[138, 171, 204, 237, 270]]\n"
     ]
    }
   ],
   "source": [
    "A = [[1,2,3],[4,5,6],[7,8,9],[10,11,12]] #4x3\n",
    "B = [[1,2,3,4,5],[4,5,6,7,8],[7,8,9,10,11]] #3x5\n",
    "'''zip(*B) unpacks the nested list as individual lists inside B, those individual lists\n",
    "are passed to zip and it zips 1st,2nd and third etc values together like 1st,2nd, 3rd columns of B.\n",
    "Y_col contains these columns of B. X_row contains rows of A. Later again zip function is applied \n",
    "in such a way that this Y_col and X_row are combined element wise, which are to be multipled and \n",
    "summed to get each element of the matrix, which is done below. For each X_row inner list is executed.\n",
    "For each Y_col iinterior sum is calculated as a generator expression.'''\n",
    "result = [[sum(a*b for a,b in zip(X_row,Y_col)) for Y_col in zip(*B)] for X_row in A]\n",
    "print('['+'\\n'.join([str(row) for row in result])+']')"
   ]
  },
  {
   "cell_type": "markdown",
   "metadata": {},
   "source": [
    "### Finding matrix power using binary exponentiation extended version for matrices"
   ]
  },
  {
   "cell_type": "code",
   "execution_count": 14,
   "metadata": {},
   "outputs": [
    {
     "name": "stdout",
     "output_type": "stream",
     "text": [
      "a 121\n",
      "a 14641\n",
      "a 214358881\n",
      "a 45949729863572161\n",
      "2357947691\n"
     ]
    }
   ],
   "source": [
    "def binpow(a, n):\n",
    "    res = 1 \n",
    "    while n > 0:\n",
    "        if n & 1:\n",
    "            res = res * a\n",
    "        a = a * a\n",
    "        print('a',a)\n",
    "        n >>= 1\n",
    "    return res\n",
    "print(binpow(11,9))"
   ]
  },
  {
   "cell_type": "code",
   "execution_count": null,
   "metadata": {},
   "outputs": [],
   "source": [
    "# for matrices\n",
    "def binpow_matrix(A, n):\n",
    "    # Identity matrix\n",
    "    res = [[1,0],[0,1]]\n",
    "    while n > 0:\n",
    "        if n & 1:\n",
    "            res = res * A\n",
    "        # One line python code for matrix multiplication\n",
    "        # we can use any functions in this place\n",
    "        # A*A\n",
    "        A = [[sum(a*b for a,b in zip(X_row,Y_col)) for Y_col in zip(*A)] for X_row in A]\n",
    "        n >>= 1\n",
    "    return res\n",
    "print(binpow(11,9))"
   ]
  },
  {
   "cell_type": "markdown",
   "metadata": {},
   "source": [
    "### Climbing stairs Brit's method - log(n)"
   ]
  },
  {
   "cell_type": "code",
   "execution_count": 20,
   "metadata": {},
   "outputs": [
    {
     "name": "stdout",
     "output_type": "stream",
     "text": [
      "1\n",
      "1\n",
      "2\n",
      "3\n",
      "5\n",
      "8\n",
      "13\n",
      "21\n",
      "34\n"
     ]
    }
   ],
   "source": [
    "# for matrices\n",
    "def binpow_matrix(A, n):\n",
    "    # Identity matrix\n",
    "    res = [[1,0],[0,1]]\n",
    "    while n > 0:\n",
    "        if n & 1:\n",
    "            # One line python code for matrix multiplication\n",
    "            # we can use any functions in this place\n",
    "            # res*A\n",
    "            res = [[sum(a*b for a,b in zip(X_row,Y_col)) for Y_col in zip(*res)] for X_row in A]\n",
    "        # One line python code for matrix multiplication\n",
    "        # we can use any functions in this place\n",
    "        # A*A\n",
    "        A = [[sum(a*b for a,b in zip(X_row,Y_col)) for Y_col in zip(*A)] for X_row in A]\n",
    "        n >>= 1\n",
    "    return res\n",
    "def climbStairs(n):\n",
    "    Q = [[1,1],[1,0]]\n",
    "    res = binpow_matrix(Q, n)\n",
    "    return res[0][0]\n",
    "''' You can see the output is exactly fibonacci series, here series starts \n",
    "from 0th index, you can ignore the same'''\n",
    "print(climbStairs(0))\n",
    "print(climbStairs(1))\n",
    "print(climbStairs(2))\n",
    "print(climbStairs(3))\n",
    "print(climbStairs(4))\n",
    "print(climbStairs(5))\n",
    "print(climbStairs(6))\n",
    "print(climbStairs(7))\n",
    "print(climbStairs(8))"
   ]
  },
  {
   "cell_type": "markdown",
   "metadata": {},
   "source": [
    "### Trifibonacci Number problem"
   ]
  },
  {
   "cell_type": "code",
   "execution_count": 33,
   "metadata": {},
   "outputs": [
    {
     "name": "stdout",
     "output_type": "stream",
     "text": [
      "13\n"
     ]
    }
   ],
   "source": [
    "# Memoized solution - O(N) time and O(N) space\n",
    "def tribonacci(n):\n",
    "    memoList = [-1]*(n+1)\n",
    "    def tfb(n,memoList):\n",
    "        if n < 0:\n",
    "            return 0\n",
    "        elif n == 0:\n",
    "            memoList[0] = 0\n",
    "            return memoList[0]\n",
    "        elif n == 1 or n == 2:\n",
    "            memoList[n] = 1\n",
    "            return memoList[n]\n",
    "        else:\n",
    "            if memoList[n] != -1:\n",
    "                return memoList[n]\n",
    "            else:\n",
    "                memoList[n] = tfb(n-1,memoList)+tfb(n-2,memoList)+tfb(n-3,memoList)\n",
    "                return memoList[n]\n",
    "    return(tfb(n,memoList))\n",
    "print(tribonacci(6))"
   ]
  },
  {
   "cell_type": "code",
   "execution_count": null,
   "metadata": {},
   "outputs": [],
   "source": []
  }
 ],
 "metadata": {
  "kernelspec": {
   "display_name": "Python 3",
   "language": "python",
   "name": "python3"
  },
  "language_info": {
   "codemirror_mode": {
    "name": "ipython",
    "version": 3
   },
   "file_extension": ".py",
   "mimetype": "text/x-python",
   "name": "python",
   "nbconvert_exporter": "python",
   "pygments_lexer": "ipython3",
   "version": "3.7.6"
  }
 },
 "nbformat": 4,
 "nbformat_minor": 4
}
