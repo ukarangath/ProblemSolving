{
 "cells": [
  {
   "cell_type": "markdown",
   "metadata": {},
   "source": [
    "Experiments"
   ]
  },
  {
   "cell_type": "code",
   "execution_count": 1,
   "metadata": {},
   "outputs": [
    {
     "name": "stdout",
     "output_type": "stream",
     "text": [
      "1\n",
      "4\n",
      "5\n"
     ]
    }
   ],
   "source": [
    "# Different types of queries traversal\n",
    "myqueries = [1, 4, 5]\n",
    "for _ in range(len(myqueries)):\n",
    "    print(myqueries[_])"
   ]
  },
  {
   "cell_type": "code",
   "execution_count": 2,
   "metadata": {},
   "outputs": [
    {
     "name": "stdout",
     "output_type": "stream",
     "text": [
      "1\n",
      "4\n",
      "5\n"
     ]
    }
   ],
   "source": [
    "# Different types of queries traversal\n",
    "myqueries = [1, 4, 5]\n",
    "for _ in myqueries:\n",
    "    print(_)"
   ]
  },
  {
   "cell_type": "code",
   "execution_count": 7,
   "metadata": {},
   "outputs": [
    {
     "name": "stdout",
     "output_type": "stream",
     "text": [
      "[1, 4, 5] [5, 4, 1]\n",
      "[1, 4, 5]\n",
      "[1, 4, 5]\n"
     ]
    }
   ],
   "source": [
    "# sorted() function just displays sorted list, does not modify the passed list\n",
    "myqueries = [5, 4, 1]\n",
    "print(sorted(myqueries), myqueries)\n",
    "# Changes the list\n",
    "myqueries.sort() \n",
    "print(myqueries)\n",
    "myList = [5, 4, 1]\n",
    "myList = sorted(myList)\n",
    "print(myList)"
   ]
  },
  {
   "cell_type": "code",
   "execution_count": 9,
   "metadata": {},
   "outputs": [
    {
     "name": "stdout",
     "output_type": "stream",
     "text": [
      "0 1\n",
      "1 4\n",
      "2 5\n"
     ]
    }
   ],
   "source": [
    "# enumerate\n",
    "for idx, duration in enumerate(myqueries):\n",
    "    print(idx, duration)\n"
   ]
  },
  {
   "cell_type": "markdown",
   "metadata": {},
   "source": [
    "Solutions"
   ]
  },
  {
   "cell_type": "code",
   "execution_count": 1,
   "metadata": {},
   "outputs": [
    {
     "name": "stdout",
     "output_type": "stream",
     "text": [
      "[1, 2, 2, 3, 6]\n",
      "17\n"
     ]
    }
   ],
   "source": [
    "def minimumWaitTime(queries):\n",
    "  # Sorting step. 0 to length of queries without including it\n",
    "  # Two nested loops with traversal time as length os queries is O(n2)\n",
    "  for index1 in range(len(queries) - 1):\n",
    "    for index2 in range (index1+1, len(queries)):\n",
    "      if queries[index2] < queries[index1]:\n",
    "\t    # Swap variables in a line in Python\n",
    "        queries[index1], queries[index2] = queries[index2], queries[index1]  \n",
    "  print(queries)\n",
    "  # Finding cumulative sum for total wait time\n",
    "  # O(n) for traversal\n",
    "  cumSum = 0\n",
    "  minimumWaitTime = 0\n",
    "  for index in range(1, len(queries)):\n",
    "    # Wait time for first query is zero, hense loop starts at 1\n",
    "    cumSum += queries[index - 1]\n",
    "    minimumWaitTime += cumSum\n",
    "  return minimumWaitTime\n",
    "\n",
    "queries = [3, 2, 1, 2, 6]\n",
    "print(minimumWaitTime(queries))"
   ]
  },
  {
   "cell_type": "code",
   "execution_count": 2,
   "metadata": {},
   "outputs": [
    {
     "name": "stdout",
     "output_type": "stream",
     "text": [
      "[3, 2, 1, 2, 6]\n",
      "22\n"
     ]
    }
   ],
   "source": [
    "def minimumWaitTime(queries):\n",
    "  # Uses Timsort, faster than Quicksort most of the time\n",
    "  #queries.sort()\n",
    "  # Or\n",
    "  sorted(queries)\n",
    "  print(queries)\n",
    "  # Finding cumulative sum for total wait time\n",
    "  # O(n) for traversal\n",
    "  cumSum = 0\n",
    "  minimumWaitTime = 0\n",
    "  for index in range(1, len(queries)):\n",
    "    # Wait time for first query is zero, hense loop starts at 1\n",
    "    cumSum += queries[index - 1]\n",
    "    minimumWaitTime += cumSum\n",
    "  return minimumWaitTime\n",
    "\n",
    "queries = [3, 2, 1, 2, 6]\n",
    "print(minimumWaitTime(queries))"
   ]
  },
  {
   "cell_type": "code",
   "execution_count": null,
   "metadata": {},
   "outputs": [],
   "source": []
  }
 ],
 "metadata": {
  "kernelspec": {
   "display_name": "Python 3",
   "language": "python",
   "name": "python3"
  },
  "language_info": {
   "codemirror_mode": {
    "name": "ipython",
    "version": 3
   },
   "file_extension": ".py",
   "mimetype": "text/x-python",
   "name": "python",
   "nbconvert_exporter": "python",
   "pygments_lexer": "ipython3",
   "version": "3.11.4"
  },
  "orig_nbformat": 4
 },
 "nbformat": 4,
 "nbformat_minor": 2
}
