{
 "cells": [
  {
   "cell_type": "markdown",
   "metadata": {},
   "source": [
    "## All problems in DSA ITB sessions"
   ]
  },
  {
   "cell_type": "markdown",
   "metadata": {},
   "source": [
    "### Maximum contiguous sub array sum"
   ]
  },
  {
   "cell_type": "code",
   "execution_count": 143,
   "metadata": {},
   "outputs": [],
   "source": [
    "# Max sub array sum by minSumSoFar method\n",
    "def maxSubArrSum(arr):\n",
    "    sum,mssf,mss,sp,ep = 0,0,-99999,0,0\n",
    "    for i in range(len(arr)):\n",
    "        sum += arr[i]\n",
    "        # Order of these if statements are important to get right result\n",
    "        if (sum-mssf) > mss:\n",
    "            mss = sum-mssf\n",
    "            ep = i\n",
    "        if sum < mssf:\n",
    "            mssf = sum\n",
    "            sp = i+1\n",
    "    if sp>ep:\n",
    "        sp = ep\n",
    "    return mss,sp,ep"
   ]
  },
  {
   "cell_type": "code",
   "execution_count": 144,
   "metadata": {
    "scrolled": true
   },
   "outputs": [
    {
     "data": {
      "text/plain": [
       "(7, 1, 6)"
      ]
     },
     "execution_count": 144,
     "metadata": {},
     "output_type": "execute_result"
    }
   ],
   "source": [
    "maxSubArrSum([-2,1,0,4,-1,2,1,-5,4])"
   ]
  },
  {
   "cell_type": "code",
   "execution_count": 145,
   "metadata": {},
   "outputs": [],
   "source": [
    "# Kadane algorithm implementation\n",
    "def mss_kadane(arr):\n",
    "    sp,ep = None,None\n",
    "    msl,ms = -99999999999,-99999999999\n",
    "    for i in range(len(arr)):\n",
    "        if msl+arr[i] < arr[i]:\n",
    "            msl = arr[i]\n",
    "            if msl > ms:\n",
    "                ms = msl\n",
    "                sp,ep = i,i\n",
    "        elif msl+arr[i] > arr[i]:\n",
    "            msl = msl + arr[i]\n",
    "            if msl > ms:\n",
    "                ms = msl\n",
    "                ep = i\n",
    "    return ms,sp,ep"
   ]
  },
  {
   "cell_type": "code",
   "execution_count": 146,
   "metadata": {},
   "outputs": [
    {
     "data": {
      "text/plain": [
       "(7, 1, 6)"
      ]
     },
     "execution_count": 146,
     "metadata": {},
     "output_type": "execute_result"
    }
   ],
   "source": [
    "mss_kadane([-2,1,0,4,-1,2,1,-5,4])"
   ]
  },
  {
   "cell_type": "code",
   "execution_count": 1,
   "metadata": {},
   "outputs": [],
   "source": [
    "# Total number of Binary Trees possible from N nodes\n",
    "def TotalBT(N):\n",
    "    if N==0 or N==1: \n",
    "        return 1\n",
    "    sum = 0\n",
    "    for i in range(N):\n",
    "        sum = sum + TotalBT(i)*TotalBT(N-1-i)\n",
    "    return sum"
   ]
  },
  {
   "cell_type": "code",
   "execution_count": 4,
   "metadata": {},
   "outputs": [
    {
     "name": "stdout",
     "output_type": "stream",
     "text": [
      "5\n"
     ]
    }
   ],
   "source": [
    "print(TotalBT(3))"
   ]
  },
  {
   "cell_type": "code",
   "execution_count": 12,
   "metadata": {},
   "outputs": [],
   "source": [
    "# Total number of Binary Trees possible from N nodes\n",
    "def TotalBT(N,calls=0):\n",
    "    print(calls)\n",
    "    if N==0 or N==1: \n",
    "        return 1\n",
    "    sum = 0\n",
    "    for i in range(N):\n",
    "        sum = sum + TotalBT(i,calls+1)*TotalBT(N-1-i,calls+1)\n",
    "    return sum"
   ]
  },
  {
   "cell_type": "code",
   "execution_count": 15,
   "metadata": {},
   "outputs": [
    {
     "name": "stdout",
     "output_type": "stream",
     "text": [
      "1\n",
      "2\n",
      "2\n",
      "3\n",
      "3\n",
      "4\n",
      "4\n",
      "4\n",
      "4\n",
      "3\n",
      "3\n",
      "3\n",
      "4\n",
      "4\n",
      "4\n",
      "4\n",
      "3\n",
      "2\n",
      "2\n",
      "3\n",
      "3\n",
      "3\n",
      "3\n",
      "2\n",
      "3\n",
      "3\n",
      "3\n",
      "3\n",
      "2\n",
      "2\n",
      "3\n",
      "3\n",
      "4\n",
      "4\n",
      "4\n",
      "4\n",
      "3\n",
      "3\n",
      "3\n",
      "4\n",
      "4\n",
      "4\n",
      "4\n",
      "3\n",
      "2\n",
      "14\n"
     ]
    }
   ],
   "source": [
    "print(TotalBT(4,1))"
   ]
  },
  {
   "cell_type": "code",
   "execution_count": null,
   "metadata": {},
   "outputs": [],
   "source": []
  }
 ],
 "metadata": {
  "kernelspec": {
   "display_name": "Python 3",
   "language": "python",
   "name": "python3"
  },
  "language_info": {
   "codemirror_mode": {
    "name": "ipython",
    "version": 3
   },
   "file_extension": ".py",
   "mimetype": "text/x-python",
   "name": "python",
   "nbconvert_exporter": "python",
   "pygments_lexer": "ipython3",
   "version": "3.7.6"
  }
 },
 "nbformat": 4,
 "nbformat_minor": 4
}
