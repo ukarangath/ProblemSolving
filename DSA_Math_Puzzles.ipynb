{
 "cells": [
  {
   "cell_type": "code",
   "execution_count": 37,
   "metadata": {},
   "outputs": [],
   "source": [
    "# To check if a number is prime \n",
    "# Brute force method\n",
    "def textPrime_bf(number):\n",
    "    for i in range(2,number):\n",
    "        if number%i == 0:\n",
    "            return False\n",
    "    return True    "
   ]
  },
  {
   "cell_type": "code",
   "execution_count": 38,
   "metadata": {},
   "outputs": [],
   "source": [
    "# First level of optimization till n/2\n",
    "def textPrime_opt(number):\n",
    "    for i in range(2,number//2):\n",
    "        if number%i == 0:\n",
    "            return False\n",
    "    return True   "
   ]
  },
  {
   "cell_type": "code",
   "execution_count": 41,
   "metadata": {},
   "outputs": [],
   "source": [
    "# Final and effecient method, iteration till sqrt of n + 1 => O(SQRT(n))\n",
    "import math\n",
    "def textPrime_final(number):\n",
    "    # This upperlimit is selected to include the square root, if the given bumber is \n",
    "    # perfect square, for eg: 49, 7 need to be checked, 49 is not divisible by any other \n",
    "    # prime numbers less than 7, like 2,3,5, but only with 7.\n",
    "    upperlimit = int(number**0.5) + 1\n",
    "    for i in range(2,upperlimit):\n",
    "        if number%i == 0:\n",
    "            return False\n",
    "    return True   "
   ]
  },
  {
   "cell_type": "code",
   "execution_count": 42,
   "metadata": {},
   "outputs": [
    {
     "name": "stdout",
     "output_type": "stream",
     "text": [
      "True\n",
      "True\n",
      "True\n"
     ]
    }
   ],
   "source": [
    "print(textPrime_bf(2731))\n",
    "print(textPrime_opt(2731))\n",
    "print(textPrime_final(2731))"
   ]
  },
  {
   "cell_type": "code",
   "execution_count": 36,
   "metadata": {},
   "outputs": [
    {
     "name": "stdout",
     "output_type": "stream",
     "text": [
      "False\n",
      "False\n",
      "False\n"
     ]
    }
   ],
   "source": [
    "print(textPrime_bf(49))\n",
    "print(textPrime_opt(49))\n",
    "print(textPrime_final(49))"
   ]
  },
  {
   "cell_type": "code",
   "execution_count": 71,
   "metadata": {},
   "outputs": [],
   "source": [
    "# Finding factors of a number\n",
    "import math\n",
    "def listOfFactors(num):\n",
    "    if num <= 0:\n",
    "        return []\n",
    "    else: \n",
    "        factors = [1,num]\n",
    "        # upperlimit is kept as sqrt + 1 to include the sqrt values of perfect squares\n",
    "        upperLimit = int(math.sqrt(num)) + 1\n",
    "        for i in range(2,upperLimit):\n",
    "            if num % i == 0:\n",
    "                factors += [i]\n",
    "                if i != math.sqrt(num):\n",
    "                    factors += [num//i]\n",
    "    return factors"
   ]
  },
  {
   "cell_type": "code",
   "execution_count": 72,
   "metadata": {},
   "outputs": [
    {
     "name": "stdout",
     "output_type": "stream",
     "text": [
      "[1, 49, 7]\n"
     ]
    }
   ],
   "source": [
    "print(listOfFactors(49))"
   ]
  },
  {
   "cell_type": "code",
   "execution_count": 83,
   "metadata": {},
   "outputs": [],
   "source": [
    "# Program for finding prime factors of a number\n",
    "import math\n",
    "def printPrimeFactors(num):\n",
    "    if num <= 0:\n",
    "        return None\n",
    "    else: \n",
    "        for i in range(2, num):\n",
    "            if num % i == 0:\n",
    "                count = 0\n",
    "                while num%i == 0:\n",
    "                    num = num/i\n",
    "                    count += 1\n",
    "                print(str(i)+'^'+str(count))"
   ]
  },
  {
   "cell_type": "code",
   "execution_count": 84,
   "metadata": {},
   "outputs": [
    {
     "name": "stdout",
     "output_type": "stream",
     "text": [
      "2^2\n",
      "11^1\n"
     ]
    }
   ],
   "source": [
    "printPrimeFactors(44)"
   ]
  },
  {
   "cell_type": "code",
   "execution_count": 94,
   "metadata": {},
   "outputs": [],
   "source": [
    "# Program for finding prime factors of a number\n",
    "# Improved version\n",
    "import math\n",
    "def printPrimeFactorsImproved(num):\n",
    "    if num <= 0:\n",
    "        return None\n",
    "    else: \n",
    "        # upperlimit is kept as sqrt + 1 to include the sqrt values of perfect squares\n",
    "        upperLimit = int(math.sqrt(num)) + 1\n",
    "        for i in range(2, upperLimit):\n",
    "            if num % i == 0:\n",
    "                count = 0\n",
    "                while num%i == 0:\n",
    "                    num = num/i\n",
    "                    count += 1\n",
    "                print(str(i)+'^'+str(count))\n",
    "        # If remaining n is not a prime then by this stage it will be 1, if it is not 1, \n",
    "        # then definitely the value of n at this stage is a prime.\n",
    "        if num != 1:\n",
    "            print(str(int(num))+'^'+str(1))"
   ]
  },
  {
   "cell_type": "code",
   "execution_count": 96,
   "metadata": {},
   "outputs": [
    {
     "name": "stdout",
     "output_type": "stream",
     "text": [
      "2^2\n",
      "11^1\n"
     ]
    }
   ],
   "source": [
    "printPrimeFactorsImproved(44)"
   ]
  },
  {
   "cell_type": "code",
   "execution_count": 122,
   "metadata": {},
   "outputs": [],
   "source": [
    "# Sieve of Eratosthenes for finding all prime numbers below n\n",
    "def nPrimes(n):\n",
    "    # n+1 is to get array from 0 to n, we are checking including n.\n",
    "    primes = [1]*(n+1)\n",
    "    # 0 and 1 are not primes, so those positions are clearing off to 0\n",
    "    primes[0],primes[1] = 0,0\n",
    "    for i in range(2,n+1):\n",
    "        if primes[i] == 1:\n",
    "            j = 2\n",
    "            # clearing off the locations of all multiples of i from 2 to j*i <= n as non-primes\n",
    "            while(j*i <= n):\n",
    "                primes[i*j] = 0\n",
    "                j += 1\n",
    "    # Printing final primes \n",
    "    primeNumbers = [i for i in range(len(primes)) if primes[i] == 1]\n",
    "    return primeNumbers"
   ]
  },
  {
   "cell_type": "code",
   "execution_count": 128,
   "metadata": {},
   "outputs": [
    {
     "name": "stdout",
     "output_type": "stream",
     "text": [
      "[2, 3, 5, 7, 11, 13, 17, 19, 23, 29, 31, 37, 41, 43, 47, 53, 59, 61, 67, 71, 73, 79, 83, 89, 97]\n"
     ]
    }
   ],
   "source": [
    "print(nPrimes(100))"
   ]
  },
  {
   "cell_type": "code",
   "execution_count": 132,
   "metadata": {},
   "outputs": [],
   "source": [
    "# Sieve of Eratosthenes for finding all prime numbers below n\n",
    "# Optimized way, iteration only till sqrt n\n",
    "def nPrimesFinal(n):\n",
    "    # n+1 is to get array from 0 to n, we are checking including n.\n",
    "    primes = [1]*(n+1)\n",
    "    # 0 and 1 are not primes, so those positions are clearing off to 0\n",
    "    primes[0],primes[1] = 0,0\n",
    "    # upperlimit is kept as sqrt + 1 to include the sqrt values of perfect squares\n",
    "    upperLimit = int(math.sqrt(n)) + 1       \n",
    "    for i in range(2,upperLimit):\n",
    "        if primes[i] == 1:\n",
    "            j = 2           \n",
    "            # clearing off the locations of all multiples of i from 2 to j*i <= upperLimit as non-primes\n",
    "            while(j*i <= n):\n",
    "                primes[i*j] = 0\n",
    "                j += 1\n",
    "    # Printing final primes \n",
    "    primeNumbers = [i for i in range(len(primes)) if primes[i] == 1]\n",
    "    return primeNumbers"
   ]
  },
  {
   "cell_type": "code",
   "execution_count": 133,
   "metadata": {},
   "outputs": [
    {
     "name": "stdout",
     "output_type": "stream",
     "text": [
      "[2, 3, 5, 7, 11, 13, 17, 19, 23, 29, 31, 37, 41, 43, 47, 53, 59, 61, 67, 71, 73, 79, 83, 89, 97]\n"
     ]
    }
   ],
   "source": [
    "print(nPrimes(100))"
   ]
  },
  {
   "cell_type": "code",
   "execution_count": 140,
   "metadata": {},
   "outputs": [],
   "source": [
    "# Decimal to digits conversion\n",
    "''' Function takes even negative numbers also as an input to give the digits as output.\n",
    "Here I did not include a decimal number check, which can be checked after converting the \n",
    "number to string and then check if any dot character is present inside the number '''\n",
    "def decimalToDigits(number):\n",
    "        # Checks if the number is integer or not\n",
    "        try:\n",
    "            number = int(number)\n",
    "        except:\n",
    "            print('Please enter a positive integer value')\n",
    "            return \n",
    "        if number == 0:\n",
    "            return 0\n",
    "        if number < 0:\n",
    "            number = number * -1\n",
    "        listOfDigits = []\n",
    "        while number > 0:\n",
    "            # reminder after a division by 10\n",
    "            reminder = number % 10\n",
    "            listOfDigits += [reminder]\n",
    "            # number is updated everytime as the qutient after a division by 10\n",
    "            number = int(number/10)\n",
    "        # Two ways to reverse the list\n",
    "        return listOfDigits[::-1]\n",
    "        #return [listOfDigits[i] for i in range(len(listOfDigits)-1,-1,-1)]"
   ]
  },
  {
   "cell_type": "code",
   "execution_count": 141,
   "metadata": {},
   "outputs": [
    {
     "data": {
      "text/plain": [
       "[2, 3, 3, 3, 2, 3, 3]"
      ]
     },
     "execution_count": 141,
     "metadata": {},
     "output_type": "execute_result"
    }
   ],
   "source": [
    "decimalToDigits(2333233)"
   ]
  },
  {
   "cell_type": "code",
   "execution_count": 142,
   "metadata": {},
   "outputs": [],
   "source": [
    "# Decimal to binary conversion\n",
    "'''No checks made to see if number is a decimal number. Works only for positive integers, not for negative integers'''\n",
    "def decimalToBinary(number):\n",
    "    # Checks if the number is integer or not\n",
    "    try:\n",
    "        number = int(number)\n",
    "    except:\n",
    "        print('Please enter a positive integer value')\n",
    "        return \n",
    "    if number == 0:\n",
    "        return 0\n",
    "    listOfDigits = []\n",
    "    while number > 0:\n",
    "        # reminder after a division by 10\n",
    "        reminder = number % 2\n",
    "        listOfDigits += [reminder]\n",
    "        # number is updated everytime as the qutient after a division by 10\n",
    "        number = int(number/2)\n",
    "    # Two ways to reverse the list\n",
    "    return listOfDigits[::-1]\n",
    "        #return [listOfDigits[i] for i in range(len(listOfDigits)-1,-1,-1)]"
   ]
  },
  {
   "cell_type": "code",
   "execution_count": 144,
   "metadata": {},
   "outputs": [
    {
     "data": {
      "text/plain": [
       "[1, 0, 0, 0, 0, 1, 1, 0, 0, 0, 0, 1, 1, 1, 0, 1]"
      ]
     },
     "execution_count": 144,
     "metadata": {},
     "output_type": "execute_result"
    }
   ],
   "source": [
    "decimalToBinary('34333')"
   ]
  }
 ],
 "metadata": {
  "kernelspec": {
   "display_name": "Python 3",
   "language": "python",
   "name": "python3"
  },
  "language_info": {
   "codemirror_mode": {
    "name": "ipython",
    "version": 3
   },
   "file_extension": ".py",
   "mimetype": "text/x-python",
   "name": "python",
   "nbconvert_exporter": "python",
   "pygments_lexer": "ipython3",
   "version": "3.7.6"
  }
 },
 "nbformat": 4,
 "nbformat_minor": 4
}
