{
 "cells": [
  {
   "cell_type": "markdown",
   "metadata": {},
   "source": [
    "Experiments"
   ]
  },
  {
   "cell_type": "code",
   "execution_count": 1,
   "metadata": {},
   "outputs": [
    {
     "name": "stdout",
     "output_type": "stream",
     "text": [
      "Sum is  83\n"
     ]
    }
   ],
   "source": [
    "# Refer for types of __init__\n",
    "# The Default __init__ Constructor\n",
    "class Default():\n",
    "    \n",
    "    #defining default constructor\n",
    "    def __init__(self):\n",
    "        self.var1 = 56\n",
    "        self.var2 = 27\n",
    "        \n",
    "    #class function for addition\n",
    "    def add(self):\n",
    "        print(\"Sum is \", self.var1 + self.var2)\n",
    "\n",
    "obj = Default()     # since default constructor doesn’t take any argument\n",
    "obj.add()"
   ]
  },
  {
   "cell_type": "code",
   "execution_count": 3,
   "metadata": {},
   "outputs": [
    {
     "name": "stdout",
     "output_type": "stream",
     "text": [
      "Sum is  257\n"
     ]
    }
   ],
   "source": [
    "# Parameterised __init__ Constructor\n",
    "class Default():\n",
    "    \n",
    "    #defining parameterised constructor\n",
    "    def __init__(self, n1, n2):\n",
    "        self.var1 = n1\n",
    "        self.var2 = n2\n",
    "        \n",
    "    #class function for addition\n",
    "    def add(self):\n",
    "        print(\"Sum is \", self.var1 + self.var2)\n",
    "\n",
    "obj = Default(121, 136)              #Creating object for a class with parameterised init\n",
    "obj.add()"
   ]
  },
  {
   "cell_type": "code",
   "execution_count": 4,
   "metadata": {},
   "outputs": [
    {
     "name": "stdout",
     "output_type": "stream",
     "text": [
      "Preeti Srivastava  is the name of the teacher.\n",
      "Chhavi Pathak  is the name of the teacher.\n"
     ]
    }
   ],
   "source": [
    "# The __init__ method with default parameters\n",
    "class Teacher:\n",
    "    # definition for init method or constructor with default argument\n",
    "    def __init__(self, name = \"Preeti Srivastava\"):\n",
    "        self.name = name\n",
    "     # Random member function\n",
    "    def show(self):\n",
    "        print(self.name, \" is the name of the teacher.\")\n",
    "        \n",
    "t1 = Teacher()                             #name is initialised with the default value of the argument\n",
    "t2 = Teacher('Chhavi Pathak')    #name is initialised with the passed value of the argument\n",
    "t1.show()\n",
    "t2.show()"
   ]
  },
  {
   "cell_type": "code",
   "execution_count": 5,
   "metadata": {},
   "outputs": [
    {
     "name": "stdout",
     "output_type": "stream",
     "text": [
      "two\n"
     ]
    }
   ],
   "source": [
    "# This code runs only in python 3.10 or above versions - as python does not have Switch case\n",
    "def number_to_string(argument):\n",
    "    match argument:\n",
    "        case 0:\n",
    "            return \"zero\"\n",
    "        case 1:\n",
    "            return \"one\"\n",
    "        case 2:\n",
    "            return \"two\"\n",
    "        case default:\n",
    "            return \"something\"\n",
    "  \n",
    " \n",
    "head = number_to_string(2)\n",
    "print(head)"
   ]
  },
  {
   "cell_type": "code",
   "execution_count": 6,
   "metadata": {},
   "outputs": [
    {
     "data": {
      "text/plain": [
       "1"
      ]
     },
     "execution_count": 6,
     "metadata": {},
     "output_type": "execute_result"
    }
   ],
   "source": [
    "int(6/4)"
   ]
  },
  {
   "cell_type": "code",
   "execution_count": 7,
   "metadata": {},
   "outputs": [
    {
     "data": {
      "text/plain": [
       "1"
      ]
     },
     "execution_count": 7,
     "metadata": {},
     "output_type": "execute_result"
    }
   ],
   "source": [
    "6//4\n"
   ]
  },
  {
   "cell_type": "code",
   "execution_count": 8,
   "metadata": {},
   "outputs": [
    {
     "name": "stdout",
     "output_type": "stream",
     "text": [
      "zero\n"
     ]
    }
   ],
   "source": [
    "# Switch case is not present in Python so there are some alternatives as below\n",
    "# Function to convert number into string\n",
    "# Switcher is dictionary data type here\n",
    "# Method 1:  Switch Case implement in Python using Dictionary Mapping\n",
    "def numbers_to_strings(argument):\n",
    "    switcher = {\n",
    "        0: \"zero\",\n",
    "        1: \"one\",\n",
    "        2: \"two\",\n",
    "    }\n",
    " \n",
    "    # get() method of dictionary data type returns\n",
    "    # value of passed argument if it is present\n",
    "    # in dictionary otherwise second argument will\n",
    "    # be assigned as default value of passed argument\n",
    "    return switcher.get(argument, \"nothing\")\n",
    " \n",
    "# Driver program\n",
    "if __name__ == \"__main__\":\n",
    "    argument=0\n",
    "    print (numbers_to_strings(argument))"
   ]
  },
  {
   "cell_type": "code",
   "execution_count": 9,
   "metadata": {},
   "outputs": [
    {
     "name": "stdout",
     "output_type": "stream",
     "text": [
      "bike is Yamaha\n"
     ]
    }
   ],
   "source": [
    "#Method 2: Switch Case implement in Python using if-else\n",
    "bike = 'Yamaha'\n",
    " \n",
    "if bike == 'Hero':\n",
    "    print(\"bike is Hero\")\n",
    " \n",
    "elif bike == \"Suzuki\":\n",
    "    print(\"bike is Suzuki\")\n",
    " \n",
    "elif bike == \"Yamaha\":\n",
    "    print(\"bike is Yamaha\")\n",
    " \n",
    "else:\n",
    "    print(\"Please choose correct answer\")"
   ]
  },
  {
   "cell_type": "code",
   "execution_count": 10,
   "metadata": {},
   "outputs": [
    {
     "name": "stdout",
     "output_type": "stream",
     "text": [
      "Jan\n",
      "Mar\n"
     ]
    }
   ],
   "source": [
    "# Method 3: Switch Case implement in Python using Class\n",
    "class Python_Switch:\n",
    "    def day(self, month):\n",
    " \n",
    "        default = \"Incorrect day\"\n",
    " \n",
    "        return getattr(self, 'case_' + str(month), lambda: default)()\n",
    " \n",
    "    def case_1(self):\n",
    "        return \"Jan\"\n",
    " \n",
    "    def case_2(self):\n",
    "        return \"Feb\"\n",
    " \n",
    "    def case_3(self):\n",
    "        return \"Mar\"\n",
    " \n",
    " \n",
    "my_switch = Python_Switch()\n",
    " \n",
    "print(my_switch.day(1))\n",
    " \n",
    "print(my_switch.day(3))"
   ]
  },
  {
   "cell_type": "markdown",
   "metadata": {},
   "source": [
    "Below method works in latest version of Python, above 3.10"
   ]
  },
  {
   "cell_type": "code",
   "execution_count": 12,
   "metadata": {},
   "outputs": [
    {
     "name": "stdout",
     "output_type": "stream",
     "text": [
      "two\n"
     ]
    }
   ],
   "source": [
    "# In Python 3.10 and after that, Python will support this by using match in place of switch\n",
    "# This code runs only in python 3.10 or above versions\n",
    "def number_to_string(argument):\n",
    "    match argument:\n",
    "        case 0:\n",
    "            return \"zero\"\n",
    "        case 1:\n",
    "            return \"one\"\n",
    "        case 2:\n",
    "            return \"two\"\n",
    "        case default:\n",
    "            return \"something\"\n",
    "  \n",
    " \n",
    "head = number_to_string(2)\n",
    "print(head)"
   ]
  },
  {
   "cell_type": "code",
   "execution_count": null,
   "metadata": {},
   "outputs": [],
   "source": []
  }
 ],
 "metadata": {
  "kernelspec": {
   "display_name": "Python 3",
   "language": "python",
   "name": "python3"
  },
  "language_info": {
   "codemirror_mode": {
    "name": "ipython",
    "version": 3
   },
   "file_extension": ".py",
   "mimetype": "text/x-python",
   "name": "python",
   "nbconvert_exporter": "python",
   "pygments_lexer": "ipython3",
   "version": "3.11.4"
  },
  "orig_nbformat": 4
 },
 "nbformat": 4,
 "nbformat_minor": 2
}
