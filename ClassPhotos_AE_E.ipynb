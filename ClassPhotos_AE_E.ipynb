{
 "cells": [
  {
   "cell_type": "code",
   "execution_count": 12,
   "metadata": {},
   "outputs": [
    {
     "name": "stdout",
     "output_type": "stream",
     "text": [
      "True\n",
      "True\n"
     ]
    }
   ],
   "source": [
    "# Sorting descending order and performing the arrangement \n",
    "# AlgoExpert solution \n",
    "def classPhotos_1(redShirtHeights, blueShirtHeights):\n",
    "    redShirtHeights.sort(reverse=True)\n",
    "    blueShirtHeights.sort(reverse=True)\n",
    "    # Blue must be strictly greater than red, equal case does not work \n",
    "    shirtColorInFirstRow = \"RED\" if redShirtHeights[0] < blueShirtHeights[0] else \"BLUE\"\n",
    "    for index in range(len(redShirtHeights)):\n",
    "        redShirtHeight = redShirtHeights[index]\n",
    "        blueShirtHeight = blueShirtHeights[index]\n",
    "\n",
    "        if shirtColorInFirstRow == \"RED\":\n",
    "            # Second row strctly greater than first. \n",
    "            # Fail cases, either red greater or red equal to blue \n",
    "            if redShirtHeight >= blueShirtHeight:\n",
    "                return False\n",
    "        else:\n",
    "            if blueShirtHeight >= redShirtHeight:\n",
    "                return False\n",
    "    return True\n",
    "\n",
    "# Sorting ascending order and performing the arrangement - also works\n",
    "def classPhotos_2(redShirtHeights, blueShirtHeights):\n",
    "    redShirtHeights.sort()\n",
    "    blueShirtHeights.sort()\n",
    "    shirtColorInFirstRow = \"RED\" if redShirtHeights[0] < blueShirtHeights[0] else \"BLUE\"\n",
    "    \n",
    "    for index in range(len(redShirtHeights)):\n",
    "        redShirtHeight = redShirtHeights[index]\n",
    "        blueShirtHeight = blueShirtHeights[index]\n",
    "\n",
    "        if shirtColorInFirstRow == \"RED\":\n",
    "            if redShirtHeight >= blueShirtHeight:\n",
    "                return False\n",
    "        else:\n",
    "            if blueShirtHeight >= redShirtHeight:\n",
    "                return False\n",
    "    return True\n",
    "\n",
    "redShirtHeights = [5, 8, 1, 3, 4]\n",
    "blueShirtHeights = [6, 9, 2, 4, 5]\n",
    "\n",
    "print(classPhotos_1(redShirtHeights, blueShirtHeights))\n",
    "print(classPhotos_2(redShirtHeights, blueShirtHeights))\n"
   ]
  },
  {
   "cell_type": "code",
   "execution_count": null,
   "metadata": {},
   "outputs": [],
   "source": []
  }
 ],
 "metadata": {
  "kernelspec": {
   "display_name": "Python 3",
   "language": "python",
   "name": "python3"
  },
  "language_info": {
   "codemirror_mode": {
    "name": "ipython",
    "version": 3
   },
   "file_extension": ".py",
   "mimetype": "text/x-python",
   "name": "python",
   "nbconvert_exporter": "python",
   "pygments_lexer": "ipython3",
   "version": "3.11.4"
  }
 },
 "nbformat": 4,
 "nbformat_minor": 2
}
