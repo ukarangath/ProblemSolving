{
 "cells": [
  {
   "cell_type": "markdown",
   "metadata": {},
   "source": [
    "# Class for graph with DFS"
   ]
  },
  {
   "cell_type": "code",
   "execution_count": null,
   "metadata": {},
   "outputs": [],
   "source": [
    "\n",
    "class Vertex:\n",
    "    def __init__(self, name):\n",
    "        self.children = []\n",
    "        self.name = name\n",
    "\n",
    "    def addChild(self, name):\n",
    "        self.children.append(Vertex(name))\n",
    "        return self\n",
    "\n",
    "    def depthFirstSearch(self, array):\n",
    "        # Write your code here.\n",
    "        array.append(self.name)\n",
    "        for child in self.children:\n",
    "            child.depthFirstSearch(array)\n",
    "        # return is not useful in recursive calls, except final return \n",
    "        # from the first call of this function, where it returns the \n",
    "        # array.\n",
    "        return array\n",
    "\n"
   ]
  },
  {
   "cell_type": "code",
   "execution_count": null,
   "metadata": {},
   "outputs": [],
   "source": [
    "graph = Vertex(\"A\")\n",
    "''' graph.addChild returns self then graph.addChild(\"B\").addChild(\"C\").addChild(\"D\") is equavalent to graph.addChild(\"C\").addChild(\"D\") after adding child node B to graph, then that would be self, which then again, turns to new graph after adding child C, then \n",
    "that graph/self then again graph.addChild(\"D\"), finally this would again update children array and returns self/graph again, due to this we can chain these calls.'''\n",
    "graph.addChild(\"B\").addChild(\"C\").addChild(\"D\")\n",
    "graph.children[0].addChild(\"E\").addChild(\"F\")\n",
    "graph.children[2].addChild(\"G\").addChild(\"H\")\n",
    "graph.children[0].children[1].addChild(\"I\").addChild(\"J\")\n",
    "graph.children[2].children[0].addChild(\"K\")"
   ]
  },
  {
   "cell_type": "code",
   "execution_count": null,
   "metadata": {
    "tags": []
   },
   "outputs": [],
   "source": [
    "array = []\n",
    "print(graph.depthFirstSearch(array))"
   ]
  },
  {
   "cell_type": "code",
   "execution_count": null,
   "metadata": {},
   "outputs": [],
   "source": [
    "graph1 = Vertex(\"A\")\n",
    "graph1.addChild(\"B\").addChild(\"C\").addChild(\"D\")\n",
    "graph1.children[1].addChild(\"E\").addChild(\"F\")"
   ]
  },
  {
   "cell_type": "code",
   "execution_count": null,
   "metadata": {
    "tags": []
   },
   "outputs": [],
   "source": [
    "array = []\n",
    "print(graph1.depthFirstSearch(array))"
   ]
  },
  {
   "cell_type": "markdown",
   "metadata": {},
   "source": [
    "# Class for tree and its generation"
   ]
  },
  {
   "cell_type": "code",
   "execution_count": null,
   "metadata": {},
   "outputs": [],
   "source": [
    "\n",
    "class BST:\n",
    "    def __init__(self, value):\n",
    "        self.value = value\n",
    "        self.left = None\n",
    "        self.right = None"
   ]
  },
  {
   "cell_type": "code",
   "execution_count": null,
   "metadata": {},
   "outputs": [],
   "source": [
    "root = BST(10)\n",
    "root.left = BST(5)\n",
    "root.left.left = BST(2)\n",
    "root.left.left.left = BST(1)\n",
    "root.left.right = BST(5)\n",
    "root.right = BST(15)\n",
    "root.right.left = BST(13)\n",
    "root.right.left.right = BST(14)\n",
    "root.right.right = BST(22)"
   ]
  },
  {
   "cell_type": "markdown",
   "metadata": {},
   "source": [
    "# Misc"
   ]
  },
  {
   "cell_type": "code",
   "execution_count": null,
   "metadata": {
    "tags": []
   },
   "outputs": [],
   "source": [
    "a = [1, \"b\", 2.0]\n",
    "b = 5\n",
    "c = []\n",
    "\n",
    "if type(b) == list:\n",
    "    print(\"a is a list\")\n",
    "else:\n",
    "    print(\"a is not a list\")"
   ]
  },
  {
   "cell_type": "code",
   "execution_count": null,
   "metadata": {},
   "outputs": [],
   "source": [
    "a = [1, 2, 3, 4]\n",
    "sum(a)"
   ]
  },
  {
   "cell_type": "markdown",
   "metadata": {},
   "source": [
    "## Optional arguments"
   ]
  },
  {
   "cell_type": "code",
   "execution_count": null,
   "metadata": {
    "tags": []
   },
   "outputs": [],
   "source": [
    "# \n",
    "def multiply(num, m = 5):\n",
    "    return num*m\n",
    "# Optional argument value taken, m = 5\n",
    "print(multiply(3))\n",
    "# Assigned value of m is taken, m = 6\n",
    "print(multiply(3,6))"
   ]
  },
  {
   "cell_type": "markdown",
   "metadata": {},
   "source": [
    "# Binary search\n"
   ]
  },
  {
   "cell_type": "code",
   "execution_count": null,
   "metadata": {},
   "outputs": [],
   "source": [
    "def binarySearch(array, target, startingIndexOffset = 0):\n",
    "    if len(array) == 0:\n",
    "        return -1 \n",
    "    else:\n",
    "        mid = len(array)//2\n",
    "        if array[mid] == target:\n",
    "            print(array[mid])\n",
    "            return mid + startingIndexOffset\n",
    "        elif array[mid] < target:\n",
    "            return binarySearch(array[mid+1:],target, startingIndexOffset+mid+1)\n",
    "        else:\n",
    "            return binarySearch(array[0:mid],target, startingIndexOffset)"
   ]
  },
  {
   "cell_type": "code",
   "execution_count": 1,
   "metadata": {
    "tags": []
   },
   "outputs": [
    {
     "ename": "NameError",
     "evalue": "name 'binarySearch' is not defined",
     "output_type": "error",
     "traceback": [
      "\u001b[1;31m---------------------------------------------------------------------------\u001b[0m",
      "\u001b[1;31mNameError\u001b[0m                                 Traceback (most recent call last)",
      "Cell \u001b[1;32mIn[1], line 3\u001b[0m\n\u001b[0;32m      1\u001b[0m array \u001b[39m=\u001b[39m [\u001b[39m0\u001b[39m, \u001b[39m1\u001b[39m, \u001b[39m21\u001b[39m, \u001b[39m33\u001b[39m, \u001b[39m45\u001b[39m, \u001b[39m61\u001b[39m, \u001b[39m71\u001b[39m, \u001b[39m72\u001b[39m, \u001b[39m73\u001b[39m, \u001b[39m355\u001b[39m]\n\u001b[0;32m      2\u001b[0m target \u001b[39m=\u001b[39m \u001b[39m355\u001b[39m\n\u001b[1;32m----> 3\u001b[0m \u001b[39mprint\u001b[39m(binarySearch(array, target))\n",
      "\u001b[1;31mNameError\u001b[0m: name 'binarySearch' is not defined"
     ]
    }
   ],
   "source": [
    "array = [0, 1, 21, 33, 45, 61, 71, 72, 73, 355]\n",
    "target = 355\n",
    "print(binarySearch(array, target))"
   ]
  },
  {
   "cell_type": "markdown",
   "metadata": {},
   "source": [
    "# Misc"
   ]
  },
  {
   "cell_type": "code",
   "execution_count": null,
   "metadata": {
    "tags": []
   },
   "outputs": [],
   "source": [
    "'''array is mutable but integer is not, so the id of array remains same over function\n",
    "calls, but integer changes, if you do not want it to change then use global keyword to \n",
    "make the scope of the same to global'''\n",
    "def main():\n",
    "    var = [1, 2, 3, 4]\n",
    "    integ = 9\n",
    "    print(id(var),id(integ))\n",
    "    test(var,integ)\n",
    "    print(id(var),id(integ))\n",
    "    print(var,integ)\n",
    "def test(var,integ):\n",
    "    print(id(var),id(integ))\n",
    "    var[2] = 44444\n",
    "    integ += 1\n",
    "    print(id(var),id(integ))\n",
    "main()"
   ]
  },
  {
   "cell_type": "code",
   "execution_count": null,
   "metadata": {
    "tags": []
   },
   "outputs": [],
   "source": [
    "# Testing functionality of reversed method in Python\n",
    "for i in reversed(range(5)):\n",
    "    print(i)"
   ]
  },
  {
   "cell_type": "code",
   "execution_count": 13,
   "metadata": {},
   "outputs": [],
   "source": [
    "def isPalindrome(string):\n",
    "    reversedString = \"\"\n",
    "    print(id(reversedString))\n",
    "    for i in reversed(range(len(string))):\n",
    "        print(id(reversedString))\n",
    "        reversedString += string[i]\n",
    "        print(id(reversedString))\n",
    "    return string == reversedString\n"
   ]
  },
  {
   "cell_type": "code",
   "execution_count": 10,
   "metadata": {
    "tags": []
   },
   "outputs": [
    {
     "name": "stdout",
     "output_type": "stream",
     "text": [
      "1635789787568\n",
      "1635789787568\n",
      "1635790434160\n",
      "1635790434160\n",
      "1635891700912\n",
      "1635891700912\n",
      "1635891700912\n",
      "1635891700912\n",
      "1635891700912\n",
      "1635891700912\n",
      "1635891700912\n"
     ]
    },
    {
     "data": {
      "text/plain": [
       "True"
      ]
     },
     "execution_count": 10,
     "metadata": {},
     "output_type": "execute_result"
    }
   ],
   "source": [
    "isPalindrome('abcba')"
   ]
  },
  {
   "cell_type": "code",
   "execution_count": 22,
   "metadata": {
    "tags": []
   },
   "outputs": [
    {
     "name": "stdout",
     "output_type": "stream",
     "text": [
      "1635882773744\n",
      "1635885488752\n",
      "1635885488752\n",
      "1635885488752\n",
      "1635795667504\n"
     ]
    }
   ],
   "source": [
    "reversedString = \"hello\"\n",
    "print(id(reversedString))\n",
    "reversedString += \"A\"\n",
    "print(id(reversedString))\n",
    "reversedString += \"D2\"\n",
    "print(id(reversedString))\n",
    "reversedString += \"EWWW\"\n",
    "print(id(reversedString))\n",
    "reversedString = \"R\"\n",
    "print(id(reversedString))\n"
   ]
  },
  {
   "cell_type": "code",
   "execution_count": 24,
   "metadata": {
    "tags": []
   },
   "outputs": [
    {
     "name": "stdout",
     "output_type": "stream",
     "text": [
      "barxyz\n",
      "bar\n"
     ]
    }
   ],
   "source": [
    "foo = 'bar'\n",
    "baz = foo\n",
    "foo += 'xyz'\n",
    "print(foo)\n",
    "print(baz)"
   ]
  },
  {
   "cell_type": "code",
   "execution_count": 8,
   "metadata": {},
   "outputs": [],
   "source": [
    "def smallestDifference(arrayOne, arrayTwo):\n",
    "    # Write your code here.\n",
    "    if len(arrayOne) == 0 or len(arrayTwo) == 0:\n",
    "        return []\n",
    "    arrayOne.sort() #n*log(n)\n",
    "    arrayTwo.sort() #m*log(m)\n",
    "    Idx1 = 0\n",
    "    Idx2 = 0\n",
    "    diff = abs(arrayOne[Idx1], arrayTwo[Idx2])\n",
    "    smallestDifferencePair = [arrayOne[Idx1], arrayTwo[Idx2]]\n",
    "    while Idx1 < len(arrayOne) and Idx2 < len(arrayTwo): # O(m+n)\n",
    "        if diff > abs(arrayOne[Idx1], arrayTwo[Idx2]):\n",
    "            diff = abs(arrayOne[Idx1], arrayTwo[Idx2])\n",
    "            smallestDifferencePair = [arrayOne[Idx1], arrayTwo[Idx2]]\t\t\t\t\t\t\t\t  \n",
    "        if arrayOne[Idx1] < arrayTwo[Idx2]:\n",
    "            Idx1 += 1\n",
    "        elif arrayOne[Idx1] < arrayTwo[Idx2]:\n",
    "            Idx2 += 1\n",
    "        else: # arrayOne[Idx1] == arrayTwo[Idx2], diff is zero and only one pair exists\n",
    "            smallestDifferencePair = [arrayOne[Idx1], arrayTwo[Idx2]]\t\t\t\t\t\t\t\t  \n",
    "            return smallestDifferencePair\n",
    "    return smallestDifferencePair\n",
    "\t\t"
   ]
  },
  {
   "cell_type": "code",
   "execution_count": 12,
   "metadata": {
    "tags": []
   },
   "outputs": [],
   "source": [
    "a = [3,2,1].sort()\n",
    "a"
   ]
  },
  {
   "cell_type": "markdown",
   "metadata": {},
   "source": [
    "# Spiral Traverse"
   ]
  },
  {
   "cell_type": "code",
   "execution_count": 1,
   "metadata": {},
   "outputs": [
    {
     "ename": "TabError",
     "evalue": "inconsistent use of tabs and spaces in indentation (<ipython-input-1-e4a48f22a7c0>, line 4)",
     "output_type": "error",
     "traceback": [
      "\u001b[1;36m  File \u001b[1;32m\"<ipython-input-1-e4a48f22a7c0>\"\u001b[1;36m, line \u001b[1;32m4\u001b[0m\n\u001b[1;33m    startRow, endRow = 0, len(array) - 1\u001b[0m\n\u001b[1;37m                                        ^\u001b[0m\n\u001b[1;31mTabError\u001b[0m\u001b[1;31m:\u001b[0m inconsistent use of tabs and spaces in indentation\n"
     ]
    }
   ],
   "source": [
    "def spiralTraverse(array):\n",
    "    # Write your code here.\n",
    "    result = []\n",
    "    startRow, endRow = 0, len(array) - 1\n",
    "    startCol, endCol = 0, len(array[0]) - 1\n",
    "\n",
    "\twhile startRow <= endRow and startCol <= endCol:\n",
    "\t\tprint(startRow, endRow, startCol, endCol)\n",
    "\t\tprint('-----------')\n",
    "\t\tfor col in range(startCol, endCol+1):\n",
    "\t\t\tprint(startCol, col)\n",
    "\t\t\tresult.append(array[startRow][col])\n",
    "\t\tprint('-----------')\n",
    "\t\tfor row in range(startRow + 1, endRow + 1):\n",
    "\t\t\tprint(row, endCol)\n",
    "\t\t\tresult.append(array[row][endCol])\n",
    "\t\tprint('-----------')\n",
    "\t\tfor col in reversed(range(startCol,endCol)):\n",
    "\t\t\tif startRow == endRow:\n",
    "\t\t\t\tbreak\t\t\t\n",
    "\t\t\tprint(endRow, col)\n",
    "\t\t\tresult.append(array[endRow][col])\n",
    "\t\tprint('-----------')\n",
    "\t\tfor row in reversed(range(startRow + 1,endRow)):\n",
    "\t\t\tif startCol == endCol:\n",
    "\t\t\t\tbreak\t\t\t\n",
    "\t\t\tprint(row, startCol)\n",
    "\t\t\tresult.append(array[row][startCol])\t\n",
    "\t\tstartRow += 1\n",
    "\t\tendRow -= 1\n",
    "\t\tstartCol += 1\n",
    "\t\tendCol -= 1\n",
    "\tprint('-----------')\n",
    "\treturn result\n"
   ]
  },
  {
   "cell_type": "code",
   "execution_count": 4,
   "metadata": {},
   "outputs": [],
   "source": [
    "a = b= c = 0\n"
   ]
  },
  {
   "cell_type": "code",
   "execution_count": 5,
   "metadata": {
    "tags": []
   },
   "outputs": [
    {
     "name": "stdout",
     "output_type": "stream",
     "text": [
      "0 0 0\n"
     ]
    }
   ],
   "source": [
    "print(a,b,c)"
   ]
  },
  {
   "cell_type": "code",
   "execution_count": 1,
   "metadata": {
    "tags": []
   },
   "outputs": [
    {
     "name": "stdout",
     "output_type": "stream",
     "text": [
      "[1, 2, 3, 4, 5, 6, 7]\n"
     ]
    }
   ],
   "source": [
    "array = [1,2,3,4,5,6,7]\n",
    "xyz = array[:]\n",
    "print(xyz)"
   ]
  },
  {
   "cell_type": "code",
   "execution_count": 1,
   "metadata": {
    "tags": []
   },
   "outputs": [
    {
     "name": "stdout",
     "output_type": "stream",
     "text": [
      "[[0, 1, 2, 3], [0, 1, 2, 3], [0, 1, 2, 3], [0, 1, 2, 3], [0, 1, 2, 3]]\n"
     ]
    }
   ],
   "source": [
    "str1 = \"abc\"\n",
    "str2 = \"yabd\"\n",
    "edits = [[x for x in range(len(str1) + 1)] for y in range(len(str2) + 1)]\n",
    "print(edits)"
   ]
  },
  {
   "cell_type": "code",
   "execution_count": 5,
   "metadata": {},
   "outputs": [
    {
     "data": {
      "text/plain": [
       "[[0], [10], [20], [30]]"
      ]
     },
     "execution_count": 5,
     "metadata": {},
     "output_type": "execute_result"
    }
   ],
   "source": [
    "[[y*10] for y in range(4)]"
   ]
  },
  {
   "cell_type": "code",
   "execution_count": 2,
   "metadata": {},
   "outputs": [
    {
     "data": {
      "text/plain": [
       "1"
      ]
     },
     "execution_count": 2,
     "metadata": {},
     "output_type": "execute_result"
    }
   ],
   "source": [
    "[1].pop(0)"
   ]
  },
  {
   "cell_type": "markdown",
   "metadata": {},
   "source": [
    "## Misc"
   ]
  },
  {
   "cell_type": "code",
   "execution_count": 1,
   "metadata": {},
   "outputs": [
    {
     "name": "stdout",
     "output_type": "stream",
     "text": [
      "1722153531784\n",
      "[2]\n",
      "1722144724872\n",
      "[2, 3]\n",
      "1722144724872\n"
     ]
    }
   ],
   "source": [
    "lst = []\n",
    "print(id(lst))\n",
    "lst = lst + [2]\n",
    "print(lst)\n",
    "print(id(lst))\n",
    "lst.append(3)\n",
    "print(lst)\n",
    "print(id(lst))"
   ]
  },
  {
   "cell_type": "code",
   "execution_count": 2,
   "metadata": {},
   "outputs": [
    {
     "name": "stdout",
     "output_type": "stream",
     "text": [
      "1722179179336 1722179179336\n"
     ]
    }
   ],
   "source": [
    "lis = [1, 2 ,3]\n",
    "lis2 = lis\n",
    "print(id(lis), id(lis2))"
   ]
  },
  {
   "cell_type": "code",
   "execution_count": null,
   "metadata": {},
   "outputs": [],
   "source": []
  }
 ],
 "metadata": {
  "kernelspec": {
   "display_name": "Python 3",
   "language": "python",
   "name": "python3"
  },
  "language_info": {
   "codemirror_mode": {
    "name": "ipython",
    "version": 3
   },
   "file_extension": ".py",
   "mimetype": "text/x-python",
   "name": "python",
   "nbconvert_exporter": "python",
   "pygments_lexer": "ipython3",
   "version": "3.11.4"
  },
  "orig_nbformat": 2
 },
 "nbformat": 4,
 "nbformat_minor": 2
}
