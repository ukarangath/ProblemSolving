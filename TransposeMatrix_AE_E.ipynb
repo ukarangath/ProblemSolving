{
 "cells": [
  {
   "cell_type": "markdown",
   "metadata": {},
   "source": [
    "Experiments"
   ]
  },
  {
   "cell_type": "code",
   "execution_count": 4,
   "metadata": {},
   "outputs": [
    {
     "name": "stdout",
     "output_type": "stream",
     "text": [
      "[1, 1, 1]\n"
     ]
    }
   ],
   "source": [
    "print([1]*3)"
   ]
  },
  {
   "cell_type": "code",
   "execution_count": 11,
   "metadata": {},
   "outputs": [
    {
     "data": {
      "text/plain": [
       "[[1, 1, 1], [1, 1, 1], [1, 1, 1], [1, 1, 1]]"
      ]
     },
     "execution_count": 11,
     "metadata": {},
     "output_type": "execute_result"
    }
   ],
   "source": [
    "# 4 rows and 3 columns\n",
    "[[1]*3]*4\n"
   ]
  },
  {
   "cell_type": "code",
   "execution_count": 16,
   "metadata": {},
   "outputs": [
    {
     "name": "stdout",
     "output_type": "stream",
     "text": [
      "1\n"
     ]
    }
   ],
   "source": [
    "matrix = [[1,2]]\n",
    "print(matrix[0][0])"
   ]
  },
  {
   "cell_type": "code",
   "execution_count": 15,
   "metadata": {},
   "outputs": [
    {
     "data": {
      "text/plain": [
       "1"
      ]
     },
     "execution_count": 15,
     "metadata": {},
     "output_type": "execute_result"
    }
   ],
   "source": [
    "matrix[0][0]"
   ]
  },
  {
   "cell_type": "code",
   "execution_count": 4,
   "metadata": {},
   "outputs": [
    {
     "name": "stdout",
     "output_type": "stream",
     "text": [
      "[[0, 1, 2, 3], [1, 2, 3, 4], [2, 3, 4, 5]] 2689314637056 2689314645184 2689314590464\n"
     ]
    }
   ],
   "source": [
    "# Creating lists of lists using list comprehension\n",
    "lists = [[i+j for i in range(4)] for j in range(3)]\n",
    "print(lists, id(lists[0]), id(lists[1]), id(lists[2]))"
   ]
  },
  {
   "cell_type": "code",
   "execution_count": 20,
   "metadata": {},
   "outputs": [
    {
     "name": "stdout",
     "output_type": "stream",
     "text": [
      "[[0, 0, 0], [0, 0, 0], [0, 0, 0]] 140736129458952 140736129458952 140736129458952 2689314779968 2689314779968 2689314779968\n"
     ]
    }
   ],
   "source": [
    "# Creating lists of lists, i below method it all points to same list/ element\n",
    "lists = [[0]*3]*3\n",
    "print(lists, id(lists[0][0]), id(lists[0][1]), id(lists[2][2]), id(lists[0]), id(lists[1]), id(lists[2]))"
   ]
  },
  {
   "cell_type": "code",
   "execution_count": 21,
   "metadata": {},
   "outputs": [
    {
     "name": "stdout",
     "output_type": "stream",
     "text": [
      "[[0, 0, 0, 0], [0, 0, 0, 0], [0, 0, 0, 0], [0, 0, 0, 0]]\n",
      "[[0, 0, 6, 0], [None, None, None, None, None], [0, 0, 6, 0], [0, 0, 6, 0]] 2689314782080 2689313605120 2689314782080 140736129459144 140736129458952 140736127986888\n"
     ]
    }
   ],
   "source": [
    "test = [[0]*4]*4\n",
    "print(test)\n",
    "test[1][2] = 6\n",
    "test[1] = [None] * 5\n",
    "print(test, id(test[0]), id(test[1]), id(test[2]), id(test[0][2]), id(test[0][0]), id(test[1][1]))"
   ]
  },
  {
   "cell_type": "code",
   "execution_count": 25,
   "metadata": {},
   "outputs": [
    {
     "name": "stdout",
     "output_type": "stream",
     "text": [
      "[[1, 2], [3, 4], [5, 6]]\n",
      "[[1, 3, 5], [2, 4, 6]]\n"
     ]
    }
   ],
   "source": [
    "# Given solution, it has an improved way of creating a matrix through columns\n",
    "def transposeMatrix(matrix):\n",
    "    transposedMatrix = []\n",
    "    for col in range(len(matrix[0])):\n",
    "        # Creating one by one row\n",
    "        newRow = []\n",
    "        for row in range(len(matrix)):\n",
    "            # Append adds at the end\n",
    "            newRow.append(matrix[row][col])\n",
    "        transposedMatrix.append(newRow)\n",
    "    return transposedMatrix\n",
    "\n",
    "matrix = [[1, 2], [3, 4], [5, 6]]\n",
    "print(matrix)\n",
    "print(transposeMatrix(matrix))\n"
   ]
  },
  {
   "cell_type": "code",
   "execution_count": 26,
   "metadata": {},
   "outputs": [
    {
     "name": "stdout",
     "output_type": "stream",
     "text": [
      "[(1, 3, 5), (2, 4, 6)]\n"
     ]
    }
   ],
   "source": [
    "# This is not a right solution, it is just some Python tips\n",
    "matrix = [[1, 2], [3, 4], [5, 6]]\n",
    "print(list(zip(*matrix)))"
   ]
  },
  {
   "cell_type": "code",
   "execution_count": null,
   "metadata": {},
   "outputs": [],
   "source": []
  }
 ],
 "metadata": {
  "kernelspec": {
   "display_name": "Python 3",
   "language": "python",
   "name": "python3"
  },
  "language_info": {
   "codemirror_mode": {
    "name": "ipython",
    "version": 3
   },
   "file_extension": ".py",
   "mimetype": "text/x-python",
   "name": "python",
   "nbconvert_exporter": "python",
   "pygments_lexer": "ipython3",
   "version": "3.11.4"
  },
  "orig_nbformat": 4
 },
 "nbformat": 4,
 "nbformat_minor": 2
}
