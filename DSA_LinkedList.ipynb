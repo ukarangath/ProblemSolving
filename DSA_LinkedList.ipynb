{
 "cells": [
  {
   "cell_type": "markdown",
   "metadata": {},
   "source": [
    "## Linked List "
   ]
  },
  {
   "cell_type": "code",
   "execution_count": 1,
   "metadata": {},
   "outputs": [],
   "source": [
    "#Node of a Linked List\n",
    "class Node:\n",
    "    def __init__(self,data):\n",
    "        self.data = data\n",
    "        self.next = None\n",
    "    def __str__(self):\n",
    "        return(str(self.data)+'-'+str(self.next))"
   ]
  },
  {
   "cell_type": "code",
   "execution_count": 2,
   "metadata": {},
   "outputs": [],
   "source": [
    "class LinkedList:\n",
    "    def __init__(self):\n",
    "        self.head = None\n",
    "    def addNode(self,node):\n",
    "        if node and isinstance(node,Node): \n",
    "            '''Internally generating a new node with same data as \n",
    "            the node to be added, this code is important as it avoids infinite loops\n",
    "            while addding nodes'''\n",
    "            adNode = Node(node.data)\n",
    "            adNode.next = None\n",
    "            if self.head is None:\n",
    "                self.head = adNode\n",
    "            else:\n",
    "                f = self.head\n",
    "                s = f.next\n",
    "                while True:\n",
    "                    if not s:\n",
    "                        f.next = adNode \n",
    "                        break\n",
    "                    else:\n",
    "                        f = s\n",
    "                        s = s.next\n",
    "    def __str__(self):\n",
    "        '''Print all items of a linked list'''\n",
    "        node = self.head\n",
    "        st = ''\n",
    "        while node:\n",
    "            st = st + str(node.data)+ '->'\n",
    "            node = node.next\n",
    "        st = st + 'None'\n",
    "        return(st)"
   ]
  },
  {
   "cell_type": "code",
   "execution_count": 12,
   "metadata": {},
   "outputs": [
    {
     "name": "stdout",
     "output_type": "stream",
     "text": [
      "12->13->None\n",
      "12->13->14->15->None\n",
      "12->13->14->15->12->13->12->13->None\n"
     ]
    }
   ],
   "source": [
    "n1 = Node(12)\n",
    "n2 = Node(13)\n",
    "n3 = Node(14)\n",
    "n4 = Node(15)\n",
    "n5 = Node(16)\n",
    "ll = LinkedList()\n",
    "ll.addNode(n1)\n",
    "ll.addNode(n2)\n",
    "print(ll)\n",
    "ll.addNode(n3)\n",
    "ll.addNode(n4)\n",
    "print(ll)\n",
    "#adding same node multiple times\n",
    "ll.addNode(n1)\n",
    "ll.addNode(n2)\n",
    "ll.addNode(n1)\n",
    "ll.addNode(n2)\n",
    "print(ll)"
   ]
  },
  {
   "cell_type": "code",
   "execution_count": null,
   "metadata": {},
   "outputs": [],
   "source": []
  }
 ],
 "metadata": {
  "kernelspec": {
   "display_name": "Python 3",
   "language": "python",
   "name": "python3"
  },
  "language_info": {
   "codemirror_mode": {
    "name": "ipython",
    "version": 3
   },
   "file_extension": ".py",
   "mimetype": "text/x-python",
   "name": "python",
   "nbconvert_exporter": "python",
   "pygments_lexer": "ipython3",
   "version": "3.7.6"
  }
 },
 "nbformat": 4,
 "nbformat_minor": 4
}
