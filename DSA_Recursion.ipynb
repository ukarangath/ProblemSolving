{
 "cells": [
  {
   "cell_type": "markdown",
   "metadata": {},
   "source": [
    "## Recursion"
   ]
  },
  {
   "cell_type": "code",
   "execution_count": 1,
   "metadata": {},
   "outputs": [],
   "source": [
    "#Factorial of a number, which is positive\n",
    "'''Number => n\n",
    "n>=1 => Factorial(n) = n*Factorial(n-1)(Recursive base case)\n",
    "n=0 => 1 (Base case)'''\n",
    "#Code\n",
    "def fact(n):\n",
    "    if n < 0: return('Factorial not defined for negative values')\n",
    "    elif n == 0: return 1\n",
    "    else: return(n*fact(n-1))"
   ]
  },
  {
   "cell_type": "code",
   "execution_count": 2,
   "metadata": {},
   "outputs": [
    {
     "name": "stdout",
     "output_type": "stream",
     "text": [
      "Factorial not defined for negative values\n",
      "1\n",
      "24\n"
     ]
    }
   ],
   "source": [
    "print(fact(-1))\n",
    "print(fact(0))\n",
    "print(fact(4))"
   ]
  },
  {
   "cell_type": "code",
   "execution_count": 3,
   "metadata": {},
   "outputs": [],
   "source": [
    "#Fibanocii series, n is always > 0\n",
    "'''\n",
    "Eg: 1,1,2,3,5,8,13,...\n",
    "n>=2 => fib(n-1)+fib(n-2)(Recursive base case)\n",
    "n=1 or n=2 => 1(Base case - first two values are ones)'''\n",
    "def fib(n):\n",
    "    if n<=0 : return('Index must be greater than zero')\n",
    "    elif n == 1 or n==2: return(1)\n",
    "    else: return(fib(n-1)+fib(n-2))"
   ]
  },
  {
   "cell_type": "code",
   "execution_count": 4,
   "metadata": {},
   "outputs": [
    {
     "name": "stdout",
     "output_type": "stream",
     "text": [
      "Index must be greater than zero\n",
      "Index must be greater than zero\n",
      "1\n",
      "1\n",
      "3\n"
     ]
    }
   ],
   "source": [
    "print(fib(-1))\n",
    "print(fib(0))\n",
    "print(fib(1))\n",
    "print(fib(2))\n",
    "print(fib(4))"
   ]
  },
  {
   "cell_type": "code",
   "execution_count": 8,
   "metadata": {},
   "outputs": [
    {
     "name": "stdout",
     "output_type": "stream",
     "text": [
      "Runtime of the program is 0.564075231552124\n"
     ]
    }
   ],
   "source": [
    "import time\n",
    "\n",
    "# starting time\n",
    "start = time.time()\n",
    "fib(30)\n",
    "# sleeping for 1 sec to get 10 sec runtime\n",
    "# time.sleep(1)\n",
    "# end time\n",
    "end = time.time()\n",
    "\n",
    "# total time taken\n",
    "print(f\"Runtime of the program is {end - start}\")"
   ]
  },
  {
   "cell_type": "code",
   "execution_count": 9,
   "metadata": {},
   "outputs": [
    {
     "name": "stdout",
     "output_type": "stream",
     "text": [
      "832040\n",
      "0.59375\n"
     ]
    }
   ],
   "source": [
    "import time\n",
    "start = time.process_time()\n",
    "print(fib(30))\n",
    "# sleeping for 1 sec to get 10 sec runtime\n",
    "time.sleep(1)\n",
    "print(time.process_time() - start)"
   ]
  },
  {
   "cell_type": "code",
   "execution_count": null,
   "metadata": {},
   "outputs": [],
   "source": []
  }
 ],
 "metadata": {
  "kernelspec": {
   "display_name": "Python 3",
   "language": "python",
   "name": "python3"
  },
  "language_info": {
   "codemirror_mode": {
    "name": "ipython",
    "version": 3
   },
   "file_extension": ".py",
   "mimetype": "text/x-python",
   "name": "python",
   "nbconvert_exporter": "python",
   "pygments_lexer": "ipython3",
   "version": "3.7.6"
  }
 },
 "nbformat": 4,
 "nbformat_minor": 4
}
