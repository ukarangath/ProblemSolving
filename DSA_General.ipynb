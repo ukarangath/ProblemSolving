{
 "cells": [
  {
   "cell_type": "markdown",
   "metadata": {},
   "source": [
    "## General programming interview practice store"
   ]
  },
  {
   "cell_type": "markdown",
   "metadata": {},
   "source": [
    "### Classes and objects"
   ]
  },
  {
   "cell_type": "code",
   "execution_count": null,
   "metadata": {},
   "outputs": [],
   "source": [
    "class Robot:\n",
    "    def __init__(self, name='Jerry', color='Blue', weight=40):\n",
    "        self.name = name\n",
    "        self.color = color\n",
    "        self.weight = weight\n",
    "    def __str__(self):\n",
    "        return('name: '+self.name+' color: '+self.color+' weight: '+str(self.weight))\n",
    "    def introduceSelf(self):\n",
    "        return('name: '+self.name+' color: '+self.color+' weight: '+str(self.weight))"
   ]
  },
  {
   "cell_type": "code",
   "execution_count": null,
   "metadata": {},
   "outputs": [],
   "source": [
    "r1 = Robot('Tom','Red',30)\n",
    "print(r1)\n",
    "print(r1.introduceSelf())"
   ]
  },
  {
   "cell_type": "code",
   "execution_count": null,
   "metadata": {},
   "outputs": [],
   "source": [
    "r2 = Robot()\n",
    "print(r2)\n",
    "print(r2.introduceSelf())"
   ]
  },
  {
   "cell_type": "markdown",
   "metadata": {},
   "source": [
    "### CCIN problem at page no 45"
   ]
  },
  {
   "cell_type": "code",
   "execution_count": null,
   "metadata": {},
   "outputs": [],
   "source": [
    "# Print all positive integer solutions to a**3+b**3 = c**3+d**3, where a,b,c,d are integers between 1 and 1000\n",
    "# Brute force solution => O(N**4)\n",
    "n = 50 # 50 is used for testing \n",
    "for a in range(1,n+1): \n",
    "    for b in range(1,n+1):\n",
    "        for c in range(1,n+1):\n",
    "            for d in range(1,n+1):\n",
    "                if a**3+b**3 == c**3+d**3:\n",
    "                    print(a,b,c,d)"
   ]
  },
  {
   "cell_type": "code",
   "execution_count": null,
   "metadata": {},
   "outputs": [],
   "source": [
    "# Optimization 1 => O(N**3)\n",
    "n = 50 # 50 is used for testing \n",
    "for a in range(1,n+1): \n",
    "    for b in range(1,n+1):\n",
    "        for c in range(1,n+1):\n",
    "            left = a**3+b**3\n",
    "            right = c**3\n",
    "            if left >= right:\n",
    "                d = (left-right)**(1/3)\n",
    "                d = int(d)\n",
    "                if d >= 1 and d <=1000:\n",
    "                    print(a,b,c,d)"
   ]
  },
  {
   "cell_type": "code",
   "execution_count": null,
   "metadata": {},
   "outputs": [],
   "source": [
    "# Brute force solution\n",
    "n = 50\n",
    "hashTableOfLeftSum = {}\n",
    "for a in range(1,n+1): \n",
    "    for b in range(1,n+1):\n",
    "        leftSum = a**3 + b**3\n",
    "        # Checks if key is present in hash table already\n",
    "        # This is actually O(1) operation as it is a hashtable\n",
    "        if leftSum in hashTableOfLeftSum:\n",
    "            hashTableOfLeftSum[leftSum] = hashTableOfLeftSum[leftSum] + [(a,b)]\n",
    "        else:\n",
    "            hashTableOfLeftSum[leftSum] = [(a,b)]\n",
    "print(len(hashTableOfLeftSum))\n",
    "#print(hashTableOfLeftSum)\n",
    "for key, value in hashTableOfLeftSum.items():\n",
    "    '''Below is a tricky code - value is a linkedlist of pairs, answer must be a (a,b), (c,d), this part has negligible \n",
    "    effect, may be it adds a factor like k to N**2, but negligible effect overall, so complexity stays at O(N**2) only.\n",
    "    Eg: \n",
    "    [(1,2)] => (1,2),(1,2)\n",
    "    [(1,2),(2,1)] => (1,2),(1,2) (1,2),(2,1) (2,1),(1,2) (2,1),(2,1)'''\n",
    "    for item1 in value:\n",
    "        for item2 in value:\n",
    "            print(item1,item2)\n",
    "# Testing highest length of value list\n",
    "# for key, value in hashTableOfLeftSum.items():\n",
    "#     if len(value) >4:\n",
    "#         print(value)"
   ]
  },
  {
   "cell_type": "markdown",
   "metadata": {},
   "source": [
    "### CCIN problem at page no 50"
   ]
  },
  {
   "cell_type": "code",
   "execution_count": null,
   "metadata": {},
   "outputs": [],
   "source": [
    "# Given two sorted arrays, find the elements in common, arrays are of same length and has distinct elements\n",
    "Array1 = [13, 27, 35, 40, 49, 55, 59]\n",
    "Array2 = [17, 35, 39, 40, 55, 58, 60]"
   ]
  },
  {
   "cell_type": "markdown",
   "metadata": {},
   "source": [
    "### SUB PROBLEM - Binary search in CCIN problem @Page106"
   ]
  },
  {
   "cell_type": "code",
   "execution_count": null,
   "metadata": {},
   "outputs": [],
   "source": [
    "# O(logN)\n",
    "def binarySearchIterative(array, value):\n",
    "    left = 0\n",
    "    right = len(array) - 1\n",
    "    while(left <= right):\n",
    "        # Actually it is (left+right)/2, to avoid overflow in Java integers, \n",
    "        # in Python it is not an issue, yet we use like below\n",
    "        mid = left + int((right - left)/2)\n",
    "        print(mid)\n",
    "        if array[mid] == value:\n",
    "            return True\n",
    "        elif value < array[mid]:\n",
    "            right = mid - 1\n",
    "        elif value > array[mid]:\n",
    "            left = mid + 1\n",
    "    return False"
   ]
  },
  {
   "cell_type": "code",
   "execution_count": null,
   "metadata": {},
   "outputs": [],
   "source": [
    "# O(logN)\n",
    "def binarySearchRecursive(array, value):\n",
    "    #\n",
    "    if array == [] or array is None:\n",
    "        return 'Empty array variable'\n",
    "    else:\n",
    "        right = len(array) - 1\n",
    "        left = 0\n",
    "        return binarySearchHelper(array, left, right, value)\n",
    "    \n",
    "def binarySearchHelper(array, left, right, value):\n",
    "    if left > right:\n",
    "        return False\n",
    "    else:\n",
    "        # Actually it is (left+right)/2, to avoid overflow in Java integers, \n",
    "        # in Python it is not an issue, yet we use like below\n",
    "        mid = left + int((right - left)/2)\n",
    "        #print(left, right, mid)\n",
    "        if array[mid] == value:\n",
    "            return True\n",
    "        elif value < array[mid]:\n",
    "            return binarySearchHelper(array, left, mid-1, value)\n",
    "        elif value > array[mid]:\n",
    "            return binarySearchHelper(array, mid+1, right, value)    "
   ]
  },
  {
   "cell_type": "code",
   "execution_count": null,
   "metadata": {},
   "outputs": [],
   "source": [
    "binarySearchIterative(Array1, 27)"
   ]
  },
  {
   "cell_type": "code",
   "execution_count": null,
   "metadata": {},
   "outputs": [],
   "source": [
    "binarySearchRecursive(Array1, 66)"
   ]
  },
  {
   "cell_type": "markdown",
   "metadata": {},
   "source": [
    "### SUB PROBLEM - END"
   ]
  },
  {
   "cell_type": "code",
   "execution_count": null,
   "metadata": {},
   "outputs": [],
   "source": [
    "# Brute force solution => O(N**2)\n",
    "for item1 in Array1:\n",
    "    for item2 in Array2:\n",
    "        if item1 == item2:\n",
    "            print(item1)"
   ]
  },
  {
   "cell_type": "code",
   "execution_count": null,
   "metadata": {},
   "outputs": [],
   "source": [
    "# Optimization 1 - Using binary search in second array, this would give a complexity of O(N*logN)\n",
    "for item in Array1: # O(N)\n",
    "    if binarySearchRecursive(Array2, item): # O(logN)\n",
    "        print(item)\n",
    "        "
   ]
  },
  {
   "cell_type": "code",
   "execution_count": null,
   "metadata": {},
   "outputs": [],
   "source": [
    "# Optimization 2 - Throw everything in Array2 to hashtable, so accessing would be O(1). So overall complexity is O(N).\n",
    "# Here additional space is O(N), for hashtable\n",
    "hashTable = {}\n",
    "for index in range(len(Array2)): # Time O(N), Space O(N)\n",
    "    # Here we are saving the data as keys, to check if the same data is present\n",
    "    hashTable[Array2[index]] = index\n",
    "print(hashTable)\n",
    "for item in Array1: \n",
    "    if item in hashTable: # Checks if the data is present in hashTable => O(1)\n",
    "        print(item)"
   ]
  },
  {
   "cell_type": "code",
   "execution_count": null,
   "metadata": {},
   "outputs": [],
   "source": [
    "'''Optimization 3 - BCR => O(N), without extra space, O(1). As the arrays have distinct elements with \n",
    "same size, due to which we can do it in linear time.\n",
    "Like merging two arrays/Merge part of merge sort => Sorted distinct similar length arrays\n",
    "Here the loop must traverse according to your need, so use while with i and j increasing as per your need.\n",
    "Due to this reason, for loops does not work here.\n",
    "Two arrays : \n",
    "[a, b, c, d]\n",
    "[e, f, g, h]\n",
    "Case 1: a > e,\n",
    "Arrays are now:\n",
    "[a, b, c, d]\n",
    "[f, g, h]\n",
    "eg:\n",
    "[11, 12, 13, 14]\n",
    "[8, 9, 10, 11]\n",
    "Case 2: a < e,\n",
    "Arrays are now:\n",
    "[b, c, d]\n",
    "[e, f, g, h]\n",
    "eg: \n",
    "[2, 8, 13, 15]\n",
    "[9, 12, 20, 21]\n",
    "Case 3: a == e,\n",
    "Arrays are now:\n",
    "[b, c, d]\n",
    "[f, g, h]\n",
    "eg:\n",
    "[1, 2, 3, 4]\n",
    "[1, 5, 8, 13]\n",
    "'''\n",
    "# Same above logic implemented here\n",
    "'''\n",
    "COMPLEXITY ANALYSIS IN DETAIL\n",
    "While you are seeing the code you can see the worst case can happen when either i or j is only increasing,\n",
    "still loop can run only at the length of Array1 or Array2 , which means the worst case complexity is the \n",
    "length of the array1/array2, both have same size. There is no case where neither i nor j would get incremented.\n",
    "So there will not be any case where loop can run beyond the length of arrays'''\n",
    "i, j = 0, 0\n",
    "while i < len(Array1) and j < len(Array2):\n",
    "    if Array1[i] > Array2[j]: \n",
    "        j += 1\n",
    "    elif Array1[i] < Array2[j]: \n",
    "        i += 1\n",
    "    else : \n",
    "        print(Array1[i])\n",
    "        i += 1\n",
    "        j += 1           "
   ]
  },
  {
   "cell_type": "markdown",
   "metadata": {},
   "source": [
    "### CCIN problem at page no 54"
   ]
  },
  {
   "cell_type": "code",
   "execution_count": null,
   "metadata": {},
   "outputs": [],
   "source": [
    "# Function to check if the value of a binary number passed as a string equals the hexadecimal representation of the string\n",
    "def compareBinToHex(binaryStr, hexStr):\n",
    "    value_2 = convertFromBase(binaryStr, 2)\n",
    "    value_16 = convertFromBase(hexStr, 16)\n",
    "    # Error checks\n",
    "    if value_2 < 0 or value_16 < 0:\n",
    "        return False\n",
    "    return value_2 == value_16\n",
    "def convertFromBase(numberStr, baseVal):\n",
    "    '''Here base values are defined actually below 10, except the case of base 16. If we have a base value, \n",
    "    then all the values in string would be lesser than the same. For example, in case of 2, there are only \n",
    "    two values, 0 and 1. If base is 3 then only three numbers allowed, 0,1 and 2.'''\n",
    "    baseVal = int(baseVal)\n",
    "    # Error checks\n",
    "    if baseVal < 2 or (baseVal > 10 and baseVal != 16): return 'Invalid Base'\n",
    "    numberStr = numberStr[::-1]\n",
    "    decimalNumber = 0\n",
    "    if int(baseVal) == 16:\n",
    "        # Table for hexa values after 9\n",
    "        hexMappings = {'A':10, 'B':11, 'C':12, 'D':13, 'E':14, 'F':15}\n",
    "        for index in range(len(numberStr)):\n",
    "            if numberStr[index].isalpha():\n",
    "                if numberStr[index] in hexMappings:\n",
    "                    decimalNumber = decimalNumber + hexMappings[numberStr[index]]*(baseVal**index)\n",
    "                # Error checks\n",
    "                else:\n",
    "                    return 'Invalid characters in given hexadecimal string'\n",
    "            # Error checks\n",
    "            elif int(numberStr[index]) < 10:\n",
    "                decimalNumber = decimalNumber + (int(numberStr[index]))*(baseVal**index)\n",
    "            # Error checks\n",
    "            else:\n",
    "                return 'Invalid digits in hexadecimal representation'\n",
    "    else:\n",
    "         for index in range(len(numberStr)):\n",
    "            if int(numberStr[index]) < baseVal:  \n",
    "                decimalNumber = decimalNumber + (int(numberStr[index]))*(baseVal**index)\n",
    "            # Error checks\n",
    "            else:\n",
    "                return ' Invalid digits in given base converted string'\n",
    "    return decimalNumber"
   ]
  },
  {
   "cell_type": "code",
   "execution_count": null,
   "metadata": {},
   "outputs": [],
   "source": [
    "convertFromBase('0101',2)"
   ]
  },
  {
   "cell_type": "code",
   "execution_count": null,
   "metadata": {},
   "outputs": [],
   "source": [
    "compareBinToHex('1111', 'F')"
   ]
  },
  {
   "cell_type": "markdown",
   "metadata": {},
   "source": [
    "### CCIN problem at page no 93"
   ]
  },
  {
   "cell_type": "code",
   "execution_count": null,
   "metadata": {},
   "outputs": [],
   "source": [
    "# Top down DP or memoization\n",
    "def fibonacciTDM(n):\n",
    "    if n < 0:\n",
    "        return 'N can not be negative'\n",
    "    elif n < 2: \n",
    "        return n\n",
    "    else:\n",
    "        # n+1 is must here, as limit is from 0,1,2, ... ,n\n",
    "        memo = [0]*(n+1)\n",
    "        memo[1] = 1\n",
    "        return fibonacciHelper(n, memo)\n",
    "def fibonacciHelper(n, memo):\n",
    "    if n == 0 or n == 1:\n",
    "        return memo[n]\n",
    "    else: \n",
    "        if memo[n] == 0:\n",
    "            memo[n] = fibonacciHelper(n-1, memo) + fibonacciHelper(n-2, memo)\n",
    "        #print(memo)\n",
    "        return memo[n]"
   ]
  },
  {
   "cell_type": "code",
   "execution_count": null,
   "metadata": {},
   "outputs": [],
   "source": [
    "fibonacciTDM(10)"
   ]
  },
  {
   "cell_type": "code",
   "execution_count": null,
   "metadata": {},
   "outputs": [],
   "source": [
    "# Bottom up DP\n",
    "def fibonacciBUP(n):\n",
    "    if n < 0:\n",
    "        return 'N can not be negative'\n",
    "    elif n < 2: \n",
    "        return n\n",
    "    else:\n",
    "        memo = [0]*(n+1)\n",
    "        memo[1] = 1\n",
    "        for index in range(2,n+1):\n",
    "            memo[index] = memo[index-1] + memo[index-2]\n",
    "        return memo[n] "
   ]
  },
  {
   "cell_type": "code",
   "execution_count": null,
   "metadata": {},
   "outputs": [],
   "source": [
    "fibonacciBUP(10)"
   ]
  },
  {
   "cell_type": "code",
   "execution_count": null,
   "metadata": {},
   "outputs": [],
   "source": [
    "# Bottom up DP\n",
    "def fibonacciBUPOptimized(n):\n",
    "    '''As we are finding the nth fibonacci we do not need memo array here, so that much space we can \n",
    "    save, O(N) space to O(1) space'''\n",
    "    if n < 0:\n",
    "        return 'N can not be negative'\n",
    "    elif n < 2: \n",
    "        return n\n",
    "    else:\n",
    "        f_0 = 0\n",
    "        f_1 = 1\n",
    "        for index in range(2,n+1):\n",
    "            f = f_0 + f_1\n",
    "            f_0 = f_1\n",
    "            f_1 = f\n",
    "        return f"
   ]
  },
  {
   "cell_type": "code",
   "execution_count": null,
   "metadata": {},
   "outputs": [],
   "source": [
    "fibonacciBUPOptimized(10)"
   ]
  },
  {
   "attachments": {},
   "cell_type": "markdown",
   "metadata": {},
   "source": [
    "### Bubble sort : https://www.youtube.com/watch?v=6Gv8vg0kcHc&list=PLI1t_8YX-ApvMthLj56t1Rf-Buio5Y8KL&index=9 and mycodeschool link: https://www.youtube.com/watch?v=Jdtq5uKz-w4![image.png](attachment:image.png)"
   ]
  },
  {
   "cell_type": "code",
   "execution_count": null,
   "metadata": {},
   "outputs": [],
   "source": [
    "# Optimized algorithm\n",
    "def bubbleSort(array):\n",
    "    '''Best case when the array is already sorted, in that case you have to go through one time \n",
    "    in inner for loop through all elements of the array once and come out with isSorted never \n",
    "    changed and it is True, due to which you would exit the loop, so best case complexity is O(N).\n",
    "    In worst case, the array is descending, in each iteration the largest element gets bubbled up\n",
    "    at the right end, for each value of lastUnsorted (which is decrementing in each iteration of while) for\n",
    "    loop is ran, means two loops, in worst/average case the complexity is O(N**2)'''\n",
    "    print(array)\n",
    "    isSorted = False\n",
    "    # To avoid overflow while using index+1 lastUnsorted must be lesser than the NEW array length in each\n",
    "    # iteration\n",
    "    lastUnsorted = len(array) - 1\n",
    "    # Here 'not' to be used as isSorted is boolean, not binary\n",
    "    while(not isSorted):\n",
    "        isSorted = True\n",
    "        for index in range(0, lastUnsorted): # LOOP1 : One loop for iterating 0 to current lastUnsorted value\n",
    "            if array[index] > array[index+1]:\n",
    "                # This swapping is possible in Python only\n",
    "                array[index], array[index+1] = array[index+1], array[index]\n",
    "                isSorted = False\n",
    "        lastUnsorted -= 1 # LOOP2 : One loop for lastUnsorted\n",
    "        print(array, isSorted, lastUnsorted)\n",
    "    return array"
   ]
  },
  {
   "cell_type": "code",
   "execution_count": null,
   "metadata": {},
   "outputs": [],
   "source": [
    "array = [5,4,3,2,1,10]\n",
    "print(bubbleSort(array))"
   ]
  },
  {
   "cell_type": "code",
   "execution_count": 3,
   "metadata": {
    "tags": []
   },
   "outputs": [
    {
     "output_type": "stream",
     "name": "stdout",
     "text": "[[], [5, 4, 3, 2, 1, 10]]\n"
    }
   ],
   "source": [
    "array = [5,4,3,2,1,10]\n",
    "powerset = [[], array]\n",
    "print(powerset)"
   ]
  },
  {
   "cell_type": "code",
   "execution_count": 7,
   "metadata": {
    "tags": []
   },
   "outputs": [
    {
     "output_type": "stream",
     "name": "stdout",
     "text": "[[1], [2], [3], [4], [5]]\n"
    }
   ],
   "source": [
    "abc = [[1],[2],[3]]\n",
    "defg = [[4],[5]]\n",
    "ghi = abc + defg\n",
    "print(ghi)"
   ]
  },
  {
   "cell_type": "code",
   "execution_count": 8,
   "metadata": {},
   "outputs": [
    {
     "output_type": "execute_result",
     "data": {
      "text/plain": "[1, 2]"
     },
     "metadata": {},
     "execution_count": 8
    }
   ],
   "source": [
    "a = [1,2,3]\n",
    "a[:-1]"
   ]
  },
  {
   "cell_type": "code",
   "execution_count": 1,
   "metadata": {
    "tags": []
   },
   "outputs": [
    {
     "output_type": "stream",
     "name": "stdout",
     "text": "Y\n"
    }
   ],
   "source": [
    "b = \"[{(\"\n",
    "if '{' in b:\n",
    "    print('Y')"
   ]
  },
  {
   "cell_type": "code",
   "execution_count": 2,
   "metadata": {
    "tags": []
   },
   "outputs": [
    {
     "output_type": "stream",
     "name": "stdout",
     "text": "\n"
    }
   ],
   "source": [
    "st = \"ksddKKDa\"\n",
    "print(st[0:0])"
   ]
  },
  {
   "cell_type": "code",
   "execution_count": 1,
   "metadata": {},
   "outputs": [],
   "source": []
  },
  {
   "cell_type": "code",
   "execution_count": null,
   "metadata": {},
   "outputs": [],
   "source": []
  }
 ],
 "metadata": {
  "kernelspec": {
   "display_name": "Python 3",
   "language": "python",
   "name": "python3"
  },
  "language_info": {
   "codemirror_mode": {
    "name": "ipython",
    "version": 3
   },
   "file_extension": ".py",
   "mimetype": "text/x-python",
   "name": "python",
   "nbconvert_exporter": "python",
   "pygments_lexer": "ipython3",
   "version": "3.7.6-final"
  }
 },
 "nbformat": 4,
 "nbformat_minor": 4
}